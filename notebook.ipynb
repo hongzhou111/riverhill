{
 "cells": [
  {
   "cell_type": "code",
   "execution_count": 1,
   "source": [
    "import requests\n",
    "\n",
    "auth_url = \"https://signin.tradestation.com/authorize\"\n",
    "\n",
    "public_key = \"r4bJ08Nbz9f8b6djDhoyCmazNnrrLFL4\"\n",
    "private_key = \"hFBk8xgV_UGJEUFnxVW-AFz6YToqZwdvM-48x5wLUQhzKiR99r2w780hL0giBfvd\"\n",
    "\n",
    "params = {\"response_type\": \"code\", \"client_id\": public_key, \"redirect_uri\": \"http://localhost\", \"audience\": \"https://api.tradestation.com\", \"state\": \"STATE\", \n",
    "        \"scope\": \"openid offline_access profile MarketData ReadAccount Trade Crypto Matrix OptionSpreads\"}\n",
    "\n",
    "response = requests.get(auth_url, params=params)\n",
    "response.history\n",
    "for resp in response.history:\n",
    "        print(resp.status_code, resp.url)"
   ],
   "outputs": [
    {
     "output_type": "stream",
     "name": "stdout",
     "text": [
      "302 https://signin.tradestation.com/authorize?response_type=code&client_id=r4bJ08Nbz9f8b6djDhoyCmazNnrrLFL4&redirect_uri=http%3A%2F%2Flocalhost&audience=https%3A%2F%2Fapi.tradestation.com&state=STATE&scope=openid+offline_access+profile+MarketData+ReadAccount+Trade+Crypto+Matrix+OptionSpreads\n"
     ]
    }
   ],
   "metadata": {}
  },
  {
   "cell_type": "code",
   "execution_count": null,
   "source": [
    "import requests\n",
    "\n",
    "token_url = \"https://signin.tradestation.com/oauth/token\"\n",
    "\n",
    "authorization_code = \"xxMZvFaqtX95pCIj\"\n",
    "\n",
    "headers = {\"content-type\": \"application/x-www-form-urlencoded\"}\n",
    "data = {\"grant_type\": \"authorization_code\", \"client_id\": public_key, \"client_secret\": private_key, \"code\": authorization_code, \"redirect_uri\": \"http://localhost\"}\n",
    "\n",
    "r = requests.post(token_url, headers=headers, data=data).json()\n",
    "print(r)\n",
    "\n",
    "access_token = r[\"access_token\"]\n",
    "refresh_token = r[\"refresh_token\"]\n",
    "id_token = r[\"id_token\"]"
   ],
   "outputs": [],
   "metadata": {}
  },
  {
   "cell_type": "code",
   "execution_count": 2,
   "source": [
    "import requests\n",
    "refresh_token = \"lzijZJe0VUnjFEzq6dqWK-Q3rqhzyoq7kkrDkqVoJvoYn\"\n",
    "def refresh():\n",
    "    token_url = \"https://signin.tradestation.com/oauth/token\"\n",
    "\n",
    "    headers = {\"content-type\": \"application/x-www-form-urlencoded\"}\n",
    "    data = {\"grant_type\": \"refresh_token\", \"client_id\": public_key, \"client_secret\": private_key, \"refresh_token\": refresh_token}\n",
    "\n",
    "    r = requests.post(token_url, headers=headers, data=data).json()\n",
    "\n",
    "    access_token = r[\"access_token\"]\n",
    "    return access_token"
   ],
   "outputs": [],
   "metadata": {}
  },
  {
   "cell_type": "code",
   "execution_count": null,
   "source": [
    "import requests\n",
    "import pandas as pd\n",
    "import json\n",
    "import csv\n",
    "\n",
    "url = \"https://api.tradestation.com/v3/marketdata/barcharts/TSLA\"\n",
    "\n",
    "headers = {\"Authorization\": f\"Bearer {access_token}\"}\n",
    "\n",
    "params = {\"unit\": \"Minute\", \"firstdate\": \"2016-12-05T21:00:00Z\", \"lastdate\": \"2016-12-06T21:00:00Z\"}\n",
    "\n",
    "response = requests.request(\"GET\", url, headers=headers, stream=True, params=params)\n",
    "print(response)\n",
    "if response.status_code == 401:\n",
    "    access_token = refresh()\n",
    "    headers = {\"Authorization\": f\"Bearer {access_token}\"}\n",
    "    response = requests.request(\"GET\", url, headers=headers, stream=True, params=params)\n",
    "    print(response)\n",
    "response = response.json()\n",
    "    \n",
    "fieldnames = list(response[\"Bars\"][0].keys())\n",
    "with open(\"tradestation_data/tsla_2016_12_05_2016_12_06.csv\", \"w\", newline=\"\") as csvfile:\n",
    "    writer = csv.DictWriter(csvfile, fieldnames=fieldnames)\n",
    "\n",
    "    writer.writeheader()\n",
    "    for row in response[\"Bars\"]:\n",
    "        writer.writerow(row)"
   ],
   "outputs": [],
   "metadata": {}
  },
  {
   "cell_type": "code",
   "execution_count": null,
   "source": [
    "def stream_lvl1_quotes(symbol):\n",
    "    url = f\"https://api.tradestation.com/v3/marketdata/stream/quotes/{symbol}\"\n",
    "    while True:\n",
    "        try:\n",
    "            access_token = refresh()\n",
    "            headers = {\"Authorization\": f\"Bearer {access_token}\"}\n",
    "\n",
    "            response = requests.get(url, headers=headers, stream=True)\n",
    "            if response.status_code != 200:\n",
    "                print(f\"{symbol} {response} {response.text}\")\n",
    "                continue   \n",
    "\n",
    "            for line in response.iter_lines():\n",
    "                if line:\n",
    "                    row = json.loads(line)\n",
    "                    if \"Error\" in row:\n",
    "                        print(f\"{symbol} {response} {response.text}\")\n",
    "                        continue\n",
    "                    if \"Heartbeat\" in row:\n",
    "                        continue\n",
    "                    print(row)\n",
    "        except Exception as e:\n",
    "            print(f\"{symbol} {e}\")\n",
    "            continue"
   ],
   "outputs": [],
   "metadata": {}
  },
  {
   "cell_type": "code",
   "execution_count": null,
   "source": [
    "import os\n",
    "import csv\n",
    "import json\n",
    "import pandas as pd\n",
    "import datetime\n",
    "import time\n",
    "\n",
    "def stream_lvl2_quotes(symbol):\n",
    "    url = f\"https://api.tradestation.com/v3/marketdata/stream/marketdepth/aggregates/{symbol}\"\n",
    "    while True:\n",
    "        try:\n",
    "            access_token = refresh()\n",
    "            headers = {\"Authorization\": f\"Bearer {access_token}\"}\n",
    "\n",
    "            response = requests.get(url, headers=headers, stream=True)\n",
    "            if response.status_code != 200:\n",
    "                print(f\"{symbol} {response} {response.text}\")\n",
    "                continue            \n",
    "            \n",
    "            for line in response.iter_lines():\n",
    "                if line:\n",
    "                    bids_and_asks = json.loads(line)\n",
    "                    if \"Heartbeat\" in bids_and_asks:\n",
    "                        continue\n",
    "                    print(bids_and_asks)\n",
    "        except Exception as e:\n",
    "            print(f\"{symbol} {e}\")\n",
    "            break\n",
    "                    \n",
    "symbols = \"TSLA\"\n",
    "stream_lvl2_quotes(symbols)"
   ],
   "outputs": [],
   "metadata": {}
  },
  {
   "cell_type": "code",
   "execution_count": 1,
   "source": [
    "from test_mongo import MongoExplorer\n",
    "mongo = MongoExplorer()\n",
    "mongo"
   ],
   "outputs": [
    {
     "output_type": "error",
     "ename": "ModuleNotFoundError",
     "evalue": "No module named 'pymongo'",
     "traceback": [
      "\u001b[0;31m---------------------------------------------------------------------------\u001b[0m",
      "\u001b[0;31mModuleNotFoundError\u001b[0m                       Traceback (most recent call last)",
      "Cell \u001b[0;32mIn[1], line 1\u001b[0m\n\u001b[0;32m----> 1\u001b[0m \u001b[38;5;28;01mfrom\u001b[39;00m \u001b[38;5;21;01mtest_mongo\u001b[39;00m \u001b[38;5;28;01mimport\u001b[39;00m MongoExplorer\n\u001b[1;32m      2\u001b[0m mongo \u001b[38;5;241m=\u001b[39m MongoExplorer()\n\u001b[1;32m      3\u001b[0m mongo\n",
      "File \u001b[0;32m~/riverhill/test_mongo.py:2\u001b[0m\n\u001b[1;32m      1\u001b[0m \u001b[38;5;28;01mimport\u001b[39;00m \u001b[38;5;21;01mlogging\u001b[39;00m\n\u001b[0;32m----> 2\u001b[0m \u001b[38;5;28;01mimport\u001b[39;00m \u001b[38;5;21;01mpymongo\u001b[39;00m\n\u001b[1;32m      3\u001b[0m \u001b[38;5;28;01mimport\u001b[39;00m \u001b[38;5;21;01mpandas\u001b[39;00m \u001b[38;5;28;01mas\u001b[39;00m \u001b[38;5;21;01mpd\u001b[39;00m\n\u001b[1;32m      5\u001b[0m \u001b[38;5;28;01mclass\u001b[39;00m \u001b[38;5;21;01mMongoExplorer\u001b[39;00m:\n",
      "\u001b[0;31mModuleNotFoundError\u001b[0m: No module named 'pymongo'"
     ]
    }
   ],
   "metadata": {}
  },
  {
   "cell_type": "code",
   "execution_count": 110,
   "source": [
    "import numpy as np\n",
    "import pandas as pd\n",
    "def calc_gain(symbol, date, price_dif_threshold, size_threshold):\n",
    "    collection_1 = f\"{symbol}_10sec_ts_lvl1\"\n",
    "    collection_2 = f\"{symbol}_10sec_ts_lvl2\"\n",
    "    start = f'{date}T13:30:00Z'\n",
    "    end = f'{date}T20:00:00Z'\n",
    "    query = {'$and': [{'CurTime': {'$gte': start}}, {'CurTime': {'$lt': end}}]}\n",
    "    df_1 = pd.DataFrame(list(mongo.mongoDB[collection_1].find(query)))\n",
    "    df_2 = pd.DataFrame(list(mongo.mongoDB[collection_2].find(query)))\n",
    "    df = pd.merge(df_1, df_2, on=\"CurTime\")\n",
    "    df.loc[df[\"Side\"] == \"Bid\", \"Dif\"] = (df[\"Price\"] - df[\"Last\"])\n",
    "    df.loc[df[\"Side\"] == \"Ask\", \"Dif\"] = (df[\"Last\"] - df[\"Price\"])\n",
    "    df.loc[df[\"Side\"] == \"Ask\", \"TotalSize\"] *= -1\n",
    "    df = df.loc[df[\"Dif\"] >= price_dif_threshold]\n",
    "    if len(df) < 2:\n",
    "        return 0\n",
    "    #df.to_csv(f\"tradestation_data/tsla_{date}_df.csv\")\n",
    "    sum_df = df.groupby(\"CurTime\")[\"TotalSize\"].sum()\n",
    "    #print(sum_df)\n",
    "    final_df = pd.merge(sum_df, df_1, on=\"CurTime\")[[\"TradeTime\", \"Last\", \"Ask\", \"Bid\", \"TotalSize\"]]\n",
    "    final_df = final_df.rename(columns={\"TotalSize\": \"VolumeSum\"})\n",
    "    final_df[\"Sign\"] = final_df[\"VolumeSum\"] >= size_threshold\n",
    "    final_df[\"Sign Change\"] = final_df[\"Sign\"] - final_df[\"Sign\"].shift()\n",
    "    if final_df.loc[0, \"Sign\"]:\n",
    "        final_df.loc[0, \"Sign Change\"] = 1 \n",
    "    if final_df.loc[len(final_df) - 2, \"Sign\"]:\n",
    "        final_df.loc[len(final_df) - 1, \"Sign Change\"] = -1\n",
    "    else:\n",
    "        final_df.loc[len(final_df) - 1, \"Sign Change\"] = 0\n",
    "    final_df.loc[final_df[\"Sign Change\"] == 1, \"Balance Change\"] = -final_df.loc[final_df[\"Sign Change\"] == 1, \"Ask\"]\n",
    "    final_df.loc[final_df[\"Sign Change\"] == -1, \"Balance Change\"] = final_df.loc[final_df[\"Sign Change\"] == -1, \"Bid\"]\n",
    "    \n",
    "    final_df.loc[final_df[\"Sign Change\"] == 1, \"Short Balance Change\"] = -final_df.loc[final_df[\"Sign Change\"] == 1, \"Ask\"]\n",
    "    final_df.loc[final_df[\"Sign Change\"] == -1, \"Short Balance Change\"] = final_df.loc[final_df[\"Sign Change\"] == -1, \"Bid\"]\n",
    "    final_df[\"Rounded Last\"] = (final_df[\"Last\"] * 100).apply(np.floor) / 100\n",
    "    final_df.loc[final_df[\"Sign Change\"] == 1, \"Last Balance Change\"] = -final_df.loc[final_df[\"Sign Change\"] == 1, \"Rounded Last\"]\n",
    "    final_df.loc[final_df[\"Sign Change\"] == -1, \"Last Balance Change\"] = final_df.loc[final_df[\"Sign Change\"] == -1, \"Rounded Last\"]\n",
    "    # final_df[\"LastDif\"] = final_df[\"Last\"].diff().shift(-1)\n",
    "    # final_df[\"TrueDif\"] = final_df[\"Bid\"].shift(-1) - final_df[\"Ask\"]\n",
    "    # #final_df[\"SameSign\"] = (final_df[\"VolumeSum\"] > 0) == (final_df[\"LastDif\"] > 0)\n",
    "    # # print(final_df[\"SameSign\"].sum())\n",
    "    # # print(len(final_df))\n",
    "    # final_df.loc[final_df[\"VolumeSum\"]>=size_threshold, \"Gain\"] = final_df[\"LastDif\"]\n",
    "    # final_df.loc[final_df[\"VolumeSum\"]<size_threshold, \"Gain\"] = -final_df[\"LastDif\"]\n",
    "    # final_df[\"Gain\"] = (final_df[\"Gain\"] * 100).apply(np.floor) / 100\n",
    "    # final_df.loc[final_df[\"VolumeSum\"]>=size_threshold, \"TrueGain\"] = final_df[\"TrueDif\"]\n",
    "    # final_df.loc[final_df[\"VolumeSum\"]<size_threshold, \"TrueGain\"] = 0\n",
    "    # final_df[\"TrueGain\"] = (final_df[\"TrueGain\"] * 100).apply(np.floor) / 100\n",
    "    # print(final_df)\n",
    "    final_df.to_csv(f\"tradestation_data/{symbol}_{date}_gain.csv\")\n",
    "    #print(final_df)\n",
    "    return final_df[\"Balance Change\"].sum()\n",
    "symbols = ['NVDA', 'AMC', 'META', 'NFLX', 'AMZN', 'AAPL', 'ZM', 'GOOG', 'MSFT', 'TSLA'] \n",
    "price_dif_threshold = .025\n",
    "size_threshold = 0\n",
    "# for price_dif_threshold in np.arange(.01, 0, -.0005):\n",
    "# for size_threshold in range(0, 50, 5):\n",
    "for symbol in symbols:\n",
    "    for day in range(5, 9):\n",
    "        date = f\"2023-06-0{day}\"\n",
    "        print(f\"{symbol} {date} {calc_gain(symbol, date, price_dif_threshold, size_threshold)}\")\n"
   ],
   "outputs": [
    {
     "output_type": "stream",
     "name": "stdout",
     "text": [
      "NVDA 2023-06-05 -0.18999999999994088\n",
      "NVDA 2023-06-06 5.790000000000987\n",
      "NVDA 2023-06-07 -11.140000000000043\n",
      "NVDA 2023-06-08 13.609999999999843\n",
      "AMC 2023-06-05 0\n",
      "AMC 2023-06-06 0\n",
      "AMC 2023-06-07 0\n",
      "AMC 2023-06-08 0\n",
      "META 2023-06-05 1.7400000000004638\n",
      "META 2023-06-06 6.529999999999632\n",
      "META 2023-06-07 0.9799999999999613\n",
      "META 2023-06-08 5.6299999999999955\n",
      "NFLX 2023-06-05 -6.060000000000173\n",
      "NFLX 2023-06-06 -11.42000000000013\n",
      "NFLX 2023-06-07 -7.829999999999359\n",
      "NFLX 2023-06-08 0.24999999999965894\n",
      "AMZN 2023-06-05 1.2499999999999858\n",
      "AMZN 2023-06-06 1.8999999999999488\n",
      "AMZN 2023-06-07 -3.1800000000000637\n",
      "AMZN 2023-06-08 -0.06999999999995055\n",
      "AAPL 2023-06-05 3.3199999999998795\n",
      "AAPL 2023-06-06 1.9799999999999898\n",
      "AAPL 2023-06-07 2.6599999999999966\n",
      "AAPL 2023-06-08 -0.46999999999997044\n",
      "ZM 2023-06-05 1.0199999999999818\n",
      "ZM 2023-06-06 0.8699999999999903\n",
      "ZM 2023-06-07 -3.1499999999999346\n",
      "ZM 2023-06-08 0.4600000000000364\n",
      "GOOG 2023-06-05 2.3400000000000176\n",
      "GOOG 2023-06-06 1.4299999999999926\n",
      "GOOG 2023-06-07 -1.6900000000000546\n",
      "GOOG 2023-06-08 0.07999999999998408\n",
      "MSFT 2023-06-05 5.039999999999679\n",
      "MSFT 2023-06-06 2.7700000000008345\n",
      "MSFT 2023-06-07 -0.880000000000166\n",
      "MSFT 2023-06-08 -0.39999999999969305\n",
      "TSLA 2023-06-05 6.3300000000000125\n",
      "TSLA 2023-06-06 8.140000000000157\n",
      "TSLA 2023-06-07 4.940000000000367\n",
      "TSLA 2023-06-08 12.519999999999925\n"
     ]
    }
   ],
   "metadata": {}
  },
  {
   "cell_type": "code",
   "execution_count": 45,
   "source": [
    "def read_lvl1(symbol, time):\n",
    "    collection = f\"{symbol}_10sec_ts_lvl1\"\n",
    "    query = {\"CurTime\": time}\n",
    "    lvl1 = None\n",
    "    while lvl1 is None:\n",
    "        lvl1 = mongo.mongoDB[collection].find_one(query)\n",
    "        print(lvl1)\n",
    "    return None\n",
    "symbol = \"TSLA\"\n",
    "time = \"2023-06-07T18:56:40Z\"\n",
    "print(read_lvl1(symbol, time))"
   ],
   "outputs": [
    {
     "output_type": "stream",
     "name": "stdout",
     "text": [
      "{'_id': ObjectId('6480d2e8323df6bf8bfc3f93'), 'CurTime': '2023-06-07T18:56:40Z', 'GetTime': '2023-06-07T18:56:39Z', 'Symbol': 'TSLA', 'TradeTime': '2023-06-07T18:56:39Z', 'Last': 225.1, 'Ask': 225.12, 'AskSize': 300.0, 'Bid': 225.1, 'BidSize': 200.0, 'Volume': 157711317.0, 'VWAP': 226.886874080586, 'Open': 228.0, 'High': 230.82961, 'Low': 223.2, 'PreviousClose': 221.31, 'PreviousVolume': 146911576.0, 'NetChange': 3.79, 'NetChangePct': 0.0171}\n",
      "None\n"
     ]
    }
   ],
   "metadata": {}
  },
  {
   "cell_type": "code",
   "execution_count": 153,
   "source": [
    "import datetime\n",
    "timenow = datetime.datetime.utcnow()\n",
    "print(timenow)\n",
    "timenow = timenow.replace(second=timenow.second - timenow.second % 10)\n",
    "print(timenow)"
   ],
   "outputs": [
    {
     "output_type": "stream",
     "name": "stdout",
     "text": [
      "2023-06-07 19:10:33.328367\n",
      "2023-06-07 19:10:30.328367\n"
     ]
    }
   ],
   "metadata": {}
  },
  {
   "cell_type": "code",
   "execution_count": 5,
   "source": [
    "import requests\n",
    "account_id = \"11655345\"\n",
    "def buy_share(symbol):\n",
    "    access_token = refresh()\n",
    "\n",
    "    url = \"https://api.tradestation.com/v3/orderexecution/orders\"\n",
    "\n",
    "    payload = {\n",
    "        \"AccountID\": \"11655345\",\n",
    "        \"Symbol\": f\"{symbol}\",\n",
    "        \"Quantity\": \"1\",\n",
    "        \"OrderType\": \"Market\",\n",
    "        \"TradeAction\": \"BUY\",\n",
    "        \"TimeInForce\": {\"Duration\": \"DAY\"},\n",
    "        \"Route\": \"Intelligent\"\n",
    "    }\n",
    "    headers = {\n",
    "        \"content-type\": \"application/json\",\n",
    "        \"Authorization\": f\"Bearer {access_token}\"\n",
    "    }\n",
    "\n",
    "    response = requests.request(\"POST\", url, json=payload, headers=headers)\n",
    "\n",
    "    print(response.text)\n",
    "buy_share(\"TSLA\")"
   ],
   "outputs": [
    {
     "output_type": "stream",
     "name": "stdout",
     "text": [
      "{\"Orders\":[{\"Message\":\"Sent order: Buy 1 TSLA @ Market\",\"OrderID\":\"967793406\"}]}\n",
      "\n"
     ]
    }
   ],
   "metadata": {}
  },
  {
   "cell_type": "code",
   "execution_count": 11,
   "source": [
    "import requests\n",
    "def sell_share(symbol):\n",
    "    access_token = refresh()\n",
    "\n",
    "    url = \"https://api.tradestation.com/v3/orderexecution/orders\"\n",
    "\n",
    "    payload = {\n",
    "        \"AccountID\": \"11655345\",\n",
    "        \"Symbol\": f\"{symbol}\",\n",
    "        \"Quantity\": \"1\",\n",
    "        \"OrderType\": \"Market\",\n",
    "        \"TradeAction\": \"SELL\",\n",
    "        \"TimeInForce\": {\"Duration\": \"DAY\"},\n",
    "        \"Route\": \"Intelligent\"\n",
    "    }\n",
    "    headers = {\n",
    "        \"content-type\": \"application/json\",\n",
    "        \"Authorization\": f\"Bearer {access_token}\"\n",
    "    }\n",
    "\n",
    "    response = requests.request(\"POST\", url, json=payload, headers=headers)\n",
    "\n",
    "    print(response.text)\n",
    "sell_share(\"TSLA\")"
   ],
   "outputs": [
    {
     "output_type": "stream",
     "name": "stdout",
     "text": [
      "{\"Orders\":[{\"Message\":\"Sent order: Sell 1 TSLA @ Market\",\"OrderID\":\"967802392\"}]}\n",
      "\n"
     ]
    }
   ],
   "metadata": {}
  },
  {
   "cell_type": "code",
   "execution_count": 13,
   "source": [
    "import requests\n",
    "def check_status():\n",
    "    access_token = refresh()\n",
    "    url = \"https://api.tradestation.com/v3/brokerage/accounts/11655345/orders\"\n",
    "\n",
    "    headers = {\"Authorization\": f\"Bearer {access_token}\"}\n",
    "\n",
    "    response = requests.request(\"GET\", url, headers=headers)\n",
    "\n",
    "    print(response.text)\n",
    "check_status()"
   ],
   "outputs": [
    {
     "output_type": "stream",
     "name": "stdout",
     "text": [
      "{\"Orders\":[{\"AccountID\":\"11655345\",\"CommissionFee\":\"0\",\"ClosedDateTime\":\"2023-06-07T19:53:10Z\",\"Currency\":\"USD\",\"Duration\":\"DAY\",\"FilledPrice\":\"0\",\"Legs\":[{\"QuantityOrdered\":\"1\",\"ExecQuantity\":\"0\",\"QuantityRemaining\":\"0\",\"BuyOrSell\":\"Buy\",\"Symbol\":\"TSLA\",\"AssetType\":\"STOCK\"}],\"OrderID\":\"967805697\",\"OpenedDateTime\":\"2023-06-07T19:53:10Z\",\"OrderType\":\"Market\",\"PriceUsedForBuyingPower\":\"224.98\",\"RejectReason\":\"EC501: Day trading margin rules, this trade can possibly designate you as a pattern day trader, please call the Trade Desk at 800-871-3563 for more information.\",\"Routing\":\"Intelligent\",\"Status\":\"REJ\",\"StatusDescription\":\"Rejected\",\"UnbundledRouteFee\":\"0\"},{\"AccountID\":\"11655345\",\"CommissionFee\":\"0\",\"ClosedDateTime\":\"2023-06-07T19:53:00Z\",\"Currency\":\"USD\",\"Duration\":\"DAY\",\"FilledPrice\":\"224.9699\",\"Legs\":[{\"OpenOrClose\":\"Open\",\"QuantityOrdered\":\"1\",\"ExecQuantity\":\"1\",\"QuantityRemaining\":\"0\",\"BuyOrSell\":\"Buy\",\"Symbol\":\"TSLA\",\"AssetType\":\"STOCK\",\"ExecutionPrice\":\"224.9699\"}],\"OrderID\":\"967805597\",\"OpenedDateTime\":\"2023-06-07T19:53:00Z\",\"OrderType\":\"Market\",\"PriceUsedForBuyingPower\":\"224.9682\",\"Routing\":\"Intelligent\",\"Status\":\"FLL\",\"StatusDescription\":\"Filled\",\"UnbundledRouteFee\":\"0\"},{\"AccountID\":\"11655345\",\"CommissionFee\":\"0\",\"ClosedDateTime\":\"2023-06-07T19:48:23Z\",\"Currency\":\"USD\",\"Duration\":\"DAY\",\"FilledPrice\":\"223.4909\",\"Legs\":[{\"OpenOrClose\":\"Close\",\"QuantityOrdered\":\"1\",\"ExecQuantity\":\"1\",\"QuantityRemaining\":\"0\",\"BuyOrSell\":\"Sell\",\"Symbol\":\"TSLA\",\"AssetType\":\"STOCK\",\"ExecutionPrice\":\"223.4909\"}],\"OrderID\":\"967802392\",\"OpenedDateTime\":\"2023-06-07T19:48:23Z\",\"OrderType\":\"Market\",\"PriceUsedForBuyingPower\":\"223.494\",\"Routing\":\"Intelligent\",\"Status\":\"FLL\",\"StatusDescription\":\"Filled\",\"UnbundledRouteFee\":\"0\"},{\"AccountID\":\"11655345\",\"CommissionFee\":\"0\",\"ClosedDateTime\":\"2023-06-07T19:47:41Z\",\"Currency\":\"USD\",\"Duration\":\"DAY\",\"FilledPrice\":\"223.5293\",\"Legs\":[{\"OpenOrClose\":\"Open\",\"QuantityOrdered\":\"1\",\"ExecQuantity\":\"1\",\"QuantityRemaining\":\"0\",\"BuyOrSell\":\"Buy\",\"Symbol\":\"TSLA\",\"AssetType\":\"STOCK\",\"ExecutionPrice\":\"223.5293\"}],\"OrderID\":\"967801753\",\"OpenedDateTime\":\"2023-06-07T19:47:41Z\",\"OrderType\":\"Market\",\"PriceUsedForBuyingPower\":\"223.53\",\"Routing\":\"Intelligent\",\"Status\":\"FLL\",\"StatusDescription\":\"Filled\",\"UnbundledRouteFee\":\"0\"},{\"AccountID\":\"11655345\",\"CommissionFee\":\"0\",\"ClosedDateTime\":\"2023-06-07T19:42:48Z\",\"Currency\":\"USD\",\"Duration\":\"DAY\",\"FilledPrice\":\"224.2401\",\"Legs\":[{\"OpenOrClose\":\"Close\",\"QuantityOrdered\":\"1\",\"ExecQuantity\":\"1\",\"QuantityRemaining\":\"0\",\"BuyOrSell\":\"Sell\",\"Symbol\":\"TSLA\",\"AssetType\":\"STOCK\",\"ExecutionPrice\":\"224.2401\"}],\"OrderID\":\"967798413\",\"OpenedDateTime\":\"2023-06-07T19:42:48Z\",\"OrderType\":\"Market\",\"PriceUsedForBuyingPower\":\"224.2417\",\"Routing\":\"Intelligent\",\"Status\":\"FLL\",\"StatusDescription\":\"Filled\",\"UnbundledRouteFee\":\"0\"},{\"AccountID\":\"11655345\",\"CommissionFee\":\"0\",\"ClosedDateTime\":\"2023-06-07T19:36:03Z\",\"Currency\":\"USD\",\"Duration\":\"DAY\",\"FilledPrice\":\"225.2582\",\"Legs\":[{\"OpenOrClose\":\"Open\",\"QuantityOrdered\":\"1\",\"ExecQuantity\":\"1\",\"QuantityRemaining\":\"0\",\"BuyOrSell\":\"Buy\",\"Symbol\":\"TSLA\",\"AssetType\":\"STOCK\",\"ExecutionPrice\":\"225.2582\"}],\"OrderID\":\"967793406\",\"OpenedDateTime\":\"2023-06-07T19:36:03Z\",\"OrderType\":\"Market\",\"PriceUsedForBuyingPower\":\"225.24\",\"Routing\":\"Intelligent\",\"Status\":\"FLL\",\"StatusDescription\":\"Filled\",\"UnbundledRouteFee\":\"0\"}],\"Errors\":[]}\n",
      "\n"
     ]
    }
   ],
   "metadata": {}
  },
  {
   "cell_type": "code",
   "execution_count": 44,
   "source": [
    "import datetime\n",
    "import requests\n",
    "account_id = \"11655345\"\n",
    "def store_price(symbol):\n",
    "    url = \"https://api.tradestation.com/v3/orderexecution/orderconfirm\"\n",
    "    access_token = refresh()\n",
    "    payload = {\n",
    "        \"AccountID\": account_id,\n",
    "        \"Symbol\": symbol,\n",
    "        \"Quantity\": \"1\",\n",
    "        \"OrderType\": \"Market\",\n",
    "        \"TradeAction\": \"BUY\",\n",
    "        \"TimeInForce\": {\"Duration\": \"DAY\"},\n",
    "        \"Route\": \"Intelligent\"\n",
    "    }\n",
    "    headers = {\"content-type\": \"application/json\", \"Authorization\": f\"Bearer {access_token}\"}\n",
    "\n",
    "    order_time = datetime.datetime.utcnow()\n",
    "    time = order_time.replace(second=order_time.second - order_time.second%10).strftime(\"%Y-%m-%dT%H:%M:%SZ\")\n",
    "    response = requests.request(\"POST\", url, json=payload, headers=headers).json()\n",
    "    print(response)\n",
    "    print(response[\"Confirmations\"][0])\n",
    "    buy_price = response[\"Confirmations\"][0][\"EstimatedPrice\"]\n",
    "    print(buy_price)\n",
    "store_price(\"TSLA\")"
   ],
   "outputs": [
    {
     "output_type": "stream",
     "name": "stdout",
     "text": [
      "{'Confirmations': [{'OrderAssetCategory': 'EQUITY', 'Currency': 'USD', 'Route': 'Intelligent', 'TimeInForce': {'Duration': 'DAY'}, 'AccountID': '11655345', 'OrderConfirmID': 'WJ4EfcDjhUOE5ta3RebvZQ', 'EstimatedPrice': '226.53', 'EstimatedCost': '226.53', 'DebitCreditEstimatedCost': '226.53', 'EstimatedCommission': '0', 'SummaryMessage': 'Buy 1 TSLA @ Market'}]}\n",
      "{'OrderAssetCategory': 'EQUITY', 'Currency': 'USD', 'Route': 'Intelligent', 'TimeInForce': {'Duration': 'DAY'}, 'AccountID': '11655345', 'OrderConfirmID': 'WJ4EfcDjhUOE5ta3RebvZQ', 'EstimatedPrice': '226.53', 'EstimatedCost': '226.53', 'DebitCreditEstimatedCost': '226.53', 'EstimatedCommission': '0', 'SummaryMessage': 'Buy 1 TSLA @ Market'}\n",
      "226.53\n"
     ]
    }
   ],
   "metadata": {}
  },
  {
   "cell_type": "code",
   "execution_count": 1,
   "source": [
    "import numpy as np\n",
    "import pandas as pd\n",
    "def calc_real_gain(symbol, date, price_dif_threshold, size_threshold):\n",
    "    collection_1 = f\"{symbol}_10sec_ts_lvl1\"\n",
    "    collection_2 = f\"{symbol}_10sec_ts_lvl2\"\n",
    "    collection_3 = f\"{symbol}_ts_trade_prices\"\n",
    "    start = f'{date}T14:46:30Z'\n",
    "    end = f'{date}T20:00:00Z'\n",
    "    query_1 = {'$and': [{'CurTime': {'$gte': start}}, {'CurTime': {'$lt': end}}]}\n",
    "    df_1 = pd.DataFrame(list(mongo.mongoDB[collection_1].find(query_1)))\n",
    "    df_2 = pd.DataFrame(list(mongo.mongoDB[collection_2].find(query_1)))\n",
    "    df = pd.merge(df_1, df_2, on=\"CurTime\")\n",
    "    df.loc[df[\"Side\"] == \"Bid\", \"Dif\"] = (df[\"Price\"] - df[\"Last\"])\n",
    "    df.loc[df[\"Side\"] == \"Ask\", \"Dif\"] = (df[\"Last\"] - df[\"Price\"])\n",
    "    df.loc[df[\"Side\"] == \"Ask\", \"TotalSize\"] *= -1\n",
    "    df = df.loc[df[\"Dif\"] >= price_dif_threshold]\n",
    "    \n",
    "    df[\"VolumeSum\"] = df[\"TotalSize\"] * df[\"Dif\"]\n",
    "    df = df.rename(columns={\"CurTime\": \"Time\"})\n",
    "    sum_df = pd.DataFrame(df.groupby(\"Time\")[\"VolumeSum\"].sum()).reset_index()\n",
    "    #sum_df = sum_df.rename(columns={\"TotalSize\": \"VolumeSum\"})\n",
    "    #print(sum_df)\n",
    "    sum_df = sum_df[(sum_df[\"VolumeSum\"] >= size_threshold) | (sum_df[\"VolumeSum\"] <= -size_threshold)]\n",
    "    sum_df[\"Long\"] = sum_df[\"VolumeSum\"] >= size_threshold\n",
    "    sum_df[\"Short\"] = sum_df[\"VolumeSum\"] <= -size_threshold\n",
    "    #print(sum_df)\n",
    "    sum_df[\"Buy Action\"] = sum_df[\"Long\"] & sum_df[\"Short\"].shift()\n",
    "    if len(sum_df) < 3:\n",
    "        return 0\n",
    "    if sum_df.iloc[0, sum_df.columns.get_loc(\"Long\")]:\n",
    "        sum_df.iloc[0, sum_df.columns.get_loc(\"Buy Action\")] = True\n",
    "    sum_df.iloc[len(sum_df) - 1, sum_df.columns.get_loc(\"Buy Action\")] = False\n",
    "    sum_df[\"Sell Action\"] = sum_df[\"Short\"] & sum_df[\"Long\"].shift()\n",
    "    if sum_df.iloc[len(sum_df) - 2, sum_df.columns.get_loc(\"Long\")] :\n",
    "        sum_df.iloc[len(sum_df) - 1, sum_df.columns.get_loc(\"Sell Action\")] = True\n",
    "\n",
    "    query_3 = {'$and': [{'Time': {'$gte': start}}, {'Time': {'$lt': end}}]}\n",
    "    df_3 = pd.DataFrame(list(mongo.mongoDB[collection_3].find(query_3)))\n",
    "\n",
    "    final_df = pd.merge(sum_df, df_3, on=\"Time\", how=\"right\")\n",
    "    final_df = final_df[[\"Time\", \"VolumeSum\", \"Long\", \"Short\", \"Buy Action\", \"Sell Action\", \"Last\", \"BUY\", \"SELL\"]]\n",
    "    final_df = final_df.fillna(False)\n",
    "    final_df.loc[final_df[\"Buy Action\"], \"Gain\"] = -final_df.loc[final_df[\"Buy Action\"], \"BUY\"] \n",
    "    final_df.loc[final_df[\"Sell Action\"], \"Gain\"] = final_df.loc[final_df[\"Sell Action\"], \"SELL\"]\n",
    "    #print(final_df)\n",
    "    ret_list = [final_df[\"Gain\"].sum()]\n",
    "    # for i in range(1, 24, 1):\n",
    "    #     final_df[f\"{i}0sec Dif\"] = final_df[\"SELL\"].shift(-i) - final_df[\"BUY\"]\n",
    "    #     final_df[f\"{i}0sec Short Dif\"] = final_df[\"SELL\"] - final_df[\"BUY\"].shift(-i)\n",
    "    #     final_df.loc[final_df[\"Long\"], f\"{i}0sec Gain\"] = final_df[f\"{i}0sec Dif\"]\n",
    "    #     final_df.loc[final_df[\"Short\"], f\"{i}0sec Short Gain\"] = final_df[f\"{i}0sec Short Dif\"]\n",
    "    #     ret_list.append([final_df[f\"{i}0sec Gain\"].sum(), final_df[f\"{i}0sec Short Gain\"].sum()])\n",
    "    # final_df = final_df[final_df[\"VolumeSum\"].notnull()]\n",
    "    final_df.to_csv(f\"tradestation_data/{symbol}_{date}_real_gain.csv\")\n",
    "    return ret_list\n",
    "symbol = \"TSLA\"\n",
    "price_dif_threshold = .1\n",
    "size_threshold = 1\n",
    "date = \"2023-06-09\"\n",
    "# for size_threshold in range(1, 100, 1):\n",
    "# log_list = []\n",
    "# for price_dif_threshold in np.arange(.2, 0, -.001):\n",
    "print([price_dif_threshold, size_threshold, calc_real_gain(symbol, date, price_dif_threshold, size_threshold)])\n",
    "# out_df = pd.DataFrame(log_list)\n",
    "# out_df.to_csv(f\"tradestation_data/TSLA_{date}_threshold_tests.csv\")\n"
   ],
   "outputs": [
    {
     "output_type": "error",
     "ename": "NameError",
     "evalue": "name 'mongo' is not defined",
     "traceback": [
      "\u001b[0;31m---------------------------------------------------------------------------\u001b[0m",
      "\u001b[0;31mNameError\u001b[0m                                 Traceback (most recent call last)",
      "Cell \u001b[0;32mIn[1], line 63\u001b[0m\n\u001b[1;32m     59\u001b[0m date \u001b[38;5;241m=\u001b[39m \u001b[38;5;124m\"\u001b[39m\u001b[38;5;124m2023-06-09\u001b[39m\u001b[38;5;124m\"\u001b[39m\n\u001b[1;32m     60\u001b[0m \u001b[38;5;66;03m# for size_threshold in range(1, 100, 1):\u001b[39;00m\n\u001b[1;32m     61\u001b[0m \u001b[38;5;66;03m# log_list = []\u001b[39;00m\n\u001b[1;32m     62\u001b[0m \u001b[38;5;66;03m# for price_dif_threshold in np.arange(.2, 0, -.001):\u001b[39;00m\n\u001b[0;32m---> 63\u001b[0m \u001b[38;5;28mprint\u001b[39m([price_dif_threshold, size_threshold, \u001b[43mcalc_real_gain\u001b[49m\u001b[43m(\u001b[49m\u001b[43msymbol\u001b[49m\u001b[43m,\u001b[49m\u001b[43m \u001b[49m\u001b[43mdate\u001b[49m\u001b[43m,\u001b[49m\u001b[43m \u001b[49m\u001b[43mprice_dif_threshold\u001b[49m\u001b[43m,\u001b[49m\u001b[43m \u001b[49m\u001b[43msize_threshold\u001b[49m\u001b[43m)\u001b[49m])\n\u001b[1;32m     64\u001b[0m \u001b[38;5;66;03m# out_df = pd.DataFrame(log_list)\u001b[39;00m\n\u001b[1;32m     65\u001b[0m \u001b[38;5;66;03m# out_df.to_csv(f\"tradestation_data/TSLA_{date}_threshold_tests.csv\")\u001b[39;00m\n",
      "Cell \u001b[0;32mIn[1], line 10\u001b[0m, in \u001b[0;36mcalc_real_gain\u001b[0;34m(symbol, date, price_dif_threshold, size_threshold)\u001b[0m\n\u001b[1;32m      8\u001b[0m end \u001b[38;5;241m=\u001b[39m \u001b[38;5;124mf\u001b[39m\u001b[38;5;124m'\u001b[39m\u001b[38;5;132;01m{\u001b[39;00mdate\u001b[38;5;132;01m}\u001b[39;00m\u001b[38;5;124mT20:00:00Z\u001b[39m\u001b[38;5;124m'\u001b[39m\n\u001b[1;32m      9\u001b[0m query_1 \u001b[38;5;241m=\u001b[39m {\u001b[38;5;124m'\u001b[39m\u001b[38;5;124m$and\u001b[39m\u001b[38;5;124m'\u001b[39m: [{\u001b[38;5;124m'\u001b[39m\u001b[38;5;124mCurTime\u001b[39m\u001b[38;5;124m'\u001b[39m: {\u001b[38;5;124m'\u001b[39m\u001b[38;5;124m$gte\u001b[39m\u001b[38;5;124m'\u001b[39m: start}}, {\u001b[38;5;124m'\u001b[39m\u001b[38;5;124mCurTime\u001b[39m\u001b[38;5;124m'\u001b[39m: {\u001b[38;5;124m'\u001b[39m\u001b[38;5;124m$lt\u001b[39m\u001b[38;5;124m'\u001b[39m: end}}]}\n\u001b[0;32m---> 10\u001b[0m df_1 \u001b[38;5;241m=\u001b[39m pd\u001b[38;5;241m.\u001b[39mDataFrame(\u001b[38;5;28mlist\u001b[39m(\u001b[43mmongo\u001b[49m\u001b[38;5;241m.\u001b[39mmongoDB[collection_1]\u001b[38;5;241m.\u001b[39mfind(query_1)))\n\u001b[1;32m     11\u001b[0m df_2 \u001b[38;5;241m=\u001b[39m pd\u001b[38;5;241m.\u001b[39mDataFrame(\u001b[38;5;28mlist\u001b[39m(mongo\u001b[38;5;241m.\u001b[39mmongoDB[collection_2]\u001b[38;5;241m.\u001b[39mfind(query_1)))\n\u001b[1;32m     12\u001b[0m df \u001b[38;5;241m=\u001b[39m pd\u001b[38;5;241m.\u001b[39mmerge(df_1, df_2, on\u001b[38;5;241m=\u001b[39m\u001b[38;5;124m\"\u001b[39m\u001b[38;5;124mCurTime\u001b[39m\u001b[38;5;124m\"\u001b[39m)\n",
      "\u001b[0;31mNameError\u001b[0m: name 'mongo' is not defined"
     ]
    }
   ],
   "metadata": {}
  },
  {
   "cell_type": "code",
   "execution_count": 125,
   "source": [
    "def get_mongo(symbol, date):\n",
    "    collection = f\"{symbol}_10sec_ts_lvl1\"\n",
    "    start = f'{date}T13:30:00Z'\n",
    "    end = f'{date}T20:00:00Z'\n",
    "    query = {'$and': [{'CurTime': {'$gte': start}}, {'CurTime': {'$lt': end}}]}\n",
    "    df = pd.DataFrame(list(mongo.mongoDB[collection].find(query)))\n",
    "    df = df[[\"CurTime\", \"Last\", \"Ask\", \"Bid\"]]\n",
    "    df.to_csv(f\"tradestation_data/{symbol}_{date}_lvl1.csv\")\n",
    "\n",
    "symbol = \"TSLA\"\n",
    "date = \"2023-06-09\"\n",
    "get_mongo(symbol, date)"
   ],
   "outputs": [],
   "metadata": {}
  },
  {
   "cell_type": "code",
   "execution_count": null,
   "source": [
    "import requests\n",
    "\n",
    "access_token = refresh()\n",
    "account_id = \"11655345\"\n",
    "url = f\"https://api.tradestation.com/v3/brokerage/stream/accounts/{account_id}/orders\"\n",
    "\n",
    "headers = {\"Authorization\": f\"Bearer {access_token}\"}\n",
    "\n",
    "response = requests.request(\"GET\", url, headers=headers, stream=True)\n",
    "\n",
    "for line in response.iter_lines():\n",
    "    if line:\n",
    "        print(line)"
   ],
   "outputs": [],
   "metadata": {}
  }
 ],
 "metadata": {
  "orig_nbformat": 4,
  "language_info": {
   "name": "python",
   "version": "3.10.9",
   "mimetype": "text/x-python",
   "codemirror_mode": {
    "name": "ipython",
    "version": 3
   },
   "pygments_lexer": "ipython3",
   "nbconvert_exporter": "python",
   "file_extension": ".py"
  },
  "kernelspec": {
   "name": "python3",
   "display_name": "Python 3.11.3 64-bit ('trading_env': conda)"
  },
  "interpreter": {
   "hash": "cb1ef840c899288e1e9c910483dc767869c95ccfa937d49ced9579438bbda641"
  }
 },
 "nbformat": 4,
 "nbformat_minor": 2
}