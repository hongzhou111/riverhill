{
 "cells": [
  {
   "cell_type": "code",
   "execution_count": 1,
   "source": [
    "import requests\n",
    "\n",
    "auth_url = \"https://signin.tradestation.com/authorize\"\n",
    "\n",
    "public_key = \"r4bJ08Nbz9f8b6djDhoyCmazNnrrLFL4\"\n",
    "private_key = \"hFBk8xgV_UGJEUFnxVW-AFz6YToqZwdvM-48x5wLUQhzKiR99r2w780hL0giBfvd\"\n",
    "\n",
    "params = {\"response_type\": \"code\", \"client_id\": public_key, \"redirect_uri\": \"http://localhost\", \"audience\": \"https://api.tradestation.com\", \"state\": \"STATE\", \n",
    "        \"scope\": \"openid offline_access profile MarketData ReadAccount Trade Crypto Matrix OptionSpreads\"}\n",
    "\n",
    "response = requests.get(auth_url, params=params)\n",
    "response.history\n",
    "for resp in response.history:\n",
    "        print(resp.status_code, resp.url)"
   ],
   "outputs": [
    {
     "output_type": "stream",
     "name": "stdout",
     "text": [
      "302 https://signin.tradestation.com/authorize?response_type=code&client_id=r4bJ08Nbz9f8b6djDhoyCmazNnrrLFL4&redirect_uri=http%3A%2F%2Flocalhost&audience=https%3A%2F%2Fapi.tradestation.com&state=STATE&scope=openid+offline_access+profile+MarketData+ReadAccount+Trade+Crypto+Matrix+OptionSpreads\n"
     ]
    }
   ],
   "metadata": {}
  },
  {
   "cell_type": "code",
   "execution_count": null,
   "source": [
    "import requests\n",
    "\n",
    "token_url = \"https://signin.tradestation.com/oauth/token\"\n",
    "\n",
    "authorization_code = \"xxMZvFaqtX95pCIj\"\n",
    "\n",
    "headers = {\"content-type\": \"application/x-www-form-urlencoded\"}\n",
    "data = {\"grant_type\": \"authorization_code\", \"client_id\": public_key, \"client_secret\": private_key, \"code\": authorization_code, \"redirect_uri\": \"http://localhost\"}\n",
    "\n",
    "r = requests.post(token_url, headers=headers, data=data).json()\n",
    "print(r)\n",
    "\n",
    "access_token = r[\"access_token\"]\n",
    "refresh_token = r[\"refresh_token\"]\n",
    "id_token = r[\"id_token\"]"
   ],
   "outputs": [],
   "metadata": {}
  },
  {
   "cell_type": "code",
   "execution_count": 2,
   "source": [
    "import requests\n",
    "refresh_token = \"lzijZJe0VUnjFEzq6dqWK-Q3rqhzyoq7kkrDkqVoJvoYn\"\n",
    "def refresh():\n",
    "    token_url = \"https://signin.tradestation.com/oauth/token\"\n",
    "\n",
    "    headers = {\"content-type\": \"application/x-www-form-urlencoded\"}\n",
    "    data = {\"grant_type\": \"refresh_token\", \"client_id\": public_key, \"client_secret\": private_key, \"refresh_token\": refresh_token}\n",
    "\n",
    "    r = requests.post(token_url, headers=headers, data=data).json()\n",
    "\n",
    "    access_token = r[\"access_token\"]\n",
    "    return access_token"
   ],
   "outputs": [],
   "metadata": {}
  },
  {
   "cell_type": "code",
   "execution_count": null,
   "source": [
    "import requests\n",
    "import pandas as pd\n",
    "import json\n",
    "import csv\n",
    "\n",
    "url = \"https://api.tradestation.com/v3/marketdata/barcharts/TSLA\"\n",
    "\n",
    "headers = {\"Authorization\": f\"Bearer {access_token}\"}\n",
    "\n",
    "params = {\"unit\": \"Minute\", \"firstdate\": \"2016-12-05T21:00:00Z\", \"lastdate\": \"2016-12-06T21:00:00Z\"}\n",
    "\n",
    "response = requests.request(\"GET\", url, headers=headers, stream=True, params=params)\n",
    "print(response)\n",
    "if response.status_code == 401:\n",
    "    access_token = refresh()\n",
    "    headers = {\"Authorization\": f\"Bearer {access_token}\"}\n",
    "    response = requests.request(\"GET\", url, headers=headers, stream=True, params=params)\n",
    "    print(response)\n",
    "response = response.json()\n",
    "    \n",
    "fieldnames = list(response[\"Bars\"][0].keys())\n",
    "with open(\"tradestation_data/tsla_2016_12_05_2016_12_06.csv\", \"w\", newline=\"\") as csvfile:\n",
    "    writer = csv.DictWriter(csvfile, fieldnames=fieldnames)\n",
    "\n",
    "    writer.writeheader()\n",
    "    for row in response[\"Bars\"]:\n",
    "        writer.writerow(row)"
   ],
   "outputs": [],
   "metadata": {}
  },
  {
   "cell_type": "code",
   "execution_count": null,
   "source": [
    "def stream_lvl1_quotes(symbol):\n",
    "    url = f\"https://api.tradestation.com/v3/marketdata/stream/quotes/{symbol}\"\n",
    "    while True:\n",
    "        try:\n",
    "            access_token = refresh()\n",
    "            headers = {\"Authorization\": f\"Bearer {access_token}\"}\n",
    "\n",
    "            response = requests.get(url, headers=headers, stream=True)\n",
    "            if response.status_code != 200:\n",
    "                print(f\"{symbol} {response} {response.text}\")\n",
    "                continue   \n",
    "\n",
    "            for line in response.iter_lines():\n",
    "                if line:\n",
    "                    row = json.loads(line)\n",
    "                    if \"Error\" in row:\n",
    "                        print(f\"{symbol} {response} {response.text}\")\n",
    "                        continue\n",
    "                    if \"Heartbeat\" in row:\n",
    "                        continue\n",
    "                    print(row)\n",
    "        except Exception as e:\n",
    "            print(f\"{symbol} {e}\")\n",
    "            continue"
   ],
   "outputs": [],
   "metadata": {}
  },
  {
   "cell_type": "code",
   "execution_count": null,
   "source": [
    "import os\n",
    "import csv\n",
    "import json\n",
    "import pandas as pd\n",
    "import datetime\n",
    "import time\n",
    "\n",
    "def stream_lvl2_quotes(symbol):\n",
    "    url = f\"https://api.tradestation.com/v3/marketdata/stream/marketdepth/aggregates/{symbol}\"\n",
    "    while True:\n",
    "        try:\n",
    "            access_token = refresh()\n",
    "            headers = {\"Authorization\": f\"Bearer {access_token}\"}\n",
    "\n",
    "            response = requests.get(url, headers=headers, stream=True)\n",
    "            if response.status_code != 200:\n",
    "                print(f\"{symbol} {response} {response.text}\")\n",
    "                continue            \n",
    "            \n",
    "            for line in response.iter_lines():\n",
    "                if line:\n",
    "                    bids_and_asks = json.loads(line)\n",
    "                    if \"Heartbeat\" in bids_and_asks:\n",
    "                        continue\n",
    "                    print(bids_and_asks)\n",
    "        except Exception as e:\n",
    "            print(f\"{symbol} {e}\")\n",
    "            break\n",
    "                    \n",
    "symbols = \"TSLA\"\n",
    "stream_lvl2_quotes(symbols)"
   ],
   "outputs": [],
   "metadata": {}
  },
  {
   "cell_type": "code",
   "execution_count": 5,
   "source": [
    "import requests\n",
    "account_id = \"11655345\"\n",
    "def buy_share(symbol):\n",
    "    access_token = refresh()\n",
    "\n",
    "    url = \"https://api.tradestation.com/v3/orderexecution/orders\"\n",
    "\n",
    "    payload = {\n",
    "        \"AccountID\": \"11655345\",\n",
    "        \"Symbol\": f\"{symbol}\",\n",
    "        \"Quantity\": \"1\",\n",
    "        \"OrderType\": \"Market\",\n",
    "        \"TradeAction\": \"BUY\",\n",
    "        \"TimeInForce\": {\"Duration\": \"DAY\"},\n",
    "        \"Route\": \"Intelligent\"\n",
    "    }\n",
    "    headers = {\n",
    "        \"content-type\": \"application/json\",\n",
    "        \"Authorization\": f\"Bearer {access_token}\"\n",
    "    }\n",
    "\n",
    "    response = requests.request(\"POST\", url, json=payload, headers=headers)\n",
    "\n",
    "    print(response.text)\n",
    "buy_share(\"TSLA\")"
   ],
   "outputs": [
    {
     "output_type": "stream",
     "name": "stdout",
     "text": [
      "{\"Orders\":[{\"Message\":\"Sent order: Buy 1 TSLA @ Market\",\"OrderID\":\"967793406\"}]}\n",
      "\n"
     ]
    }
   ],
   "metadata": {}
  },
  {
   "cell_type": "code",
   "execution_count": 11,
   "source": [
    "import requests\n",
    "def sell_share(symbol):\n",
    "    access_token = refresh()\n",
    "\n",
    "    url = \"https://api.tradestation.com/v3/orderexecution/orders\"\n",
    "\n",
    "    payload = {\n",
    "        \"AccountID\": \"11655345\",\n",
    "        \"Symbol\": f\"{symbol}\",\n",
    "        \"Quantity\": \"1\",\n",
    "        \"OrderType\": \"Market\",\n",
    "        \"TradeAction\": \"SELL\",\n",
    "        \"TimeInForce\": {\"Duration\": \"DAY\"},\n",
    "        \"Route\": \"Intelligent\"\n",
    "    }\n",
    "    headers = {\n",
    "        \"content-type\": \"application/json\",\n",
    "        \"Authorization\": f\"Bearer {access_token}\"\n",
    "    }\n",
    "\n",
    "    response = requests.request(\"POST\", url, json=payload, headers=headers)\n",
    "\n",
    "    print(response.text)\n",
    "sell_share(\"TSLA\")"
   ],
   "outputs": [
    {
     "output_type": "stream",
     "name": "stdout",
     "text": [
      "{\"Orders\":[{\"Message\":\"Sent order: Sell 1 TSLA @ Market\",\"OrderID\":\"967802392\"}]}\n",
      "\n"
     ]
    }
   ],
   "metadata": {}
  },
  {
   "cell_type": "code",
   "execution_count": 13,
   "source": [
    "import requests\n",
    "def check_status():\n",
    "    access_token = refresh()\n",
    "    url = \"https://api.tradestation.com/v3/brokerage/accounts/11655345/orders\"\n",
    "\n",
    "    headers = {\"Authorization\": f\"Bearer {access_token}\"}\n",
    "\n",
    "    response = requests.request(\"GET\", url, headers=headers)\n",
    "\n",
    "    print(response.text)\n",
    "check_status()"
   ],
   "outputs": [
    {
     "output_type": "stream",
     "name": "stdout",
     "text": [
      "{\"Orders\":[{\"AccountID\":\"11655345\",\"CommissionFee\":\"0\",\"ClosedDateTime\":\"2023-06-07T19:53:10Z\",\"Currency\":\"USD\",\"Duration\":\"DAY\",\"FilledPrice\":\"0\",\"Legs\":[{\"QuantityOrdered\":\"1\",\"ExecQuantity\":\"0\",\"QuantityRemaining\":\"0\",\"BuyOrSell\":\"Buy\",\"Symbol\":\"TSLA\",\"AssetType\":\"STOCK\"}],\"OrderID\":\"967805697\",\"OpenedDateTime\":\"2023-06-07T19:53:10Z\",\"OrderType\":\"Market\",\"PriceUsedForBuyingPower\":\"224.98\",\"RejectReason\":\"EC501: Day trading margin rules, this trade can possibly designate you as a pattern day trader, please call the Trade Desk at 800-871-3563 for more information.\",\"Routing\":\"Intelligent\",\"Status\":\"REJ\",\"StatusDescription\":\"Rejected\",\"UnbundledRouteFee\":\"0\"},{\"AccountID\":\"11655345\",\"CommissionFee\":\"0\",\"ClosedDateTime\":\"2023-06-07T19:53:00Z\",\"Currency\":\"USD\",\"Duration\":\"DAY\",\"FilledPrice\":\"224.9699\",\"Legs\":[{\"OpenOrClose\":\"Open\",\"QuantityOrdered\":\"1\",\"ExecQuantity\":\"1\",\"QuantityRemaining\":\"0\",\"BuyOrSell\":\"Buy\",\"Symbol\":\"TSLA\",\"AssetType\":\"STOCK\",\"ExecutionPrice\":\"224.9699\"}],\"OrderID\":\"967805597\",\"OpenedDateTime\":\"2023-06-07T19:53:00Z\",\"OrderType\":\"Market\",\"PriceUsedForBuyingPower\":\"224.9682\",\"Routing\":\"Intelligent\",\"Status\":\"FLL\",\"StatusDescription\":\"Filled\",\"UnbundledRouteFee\":\"0\"},{\"AccountID\":\"11655345\",\"CommissionFee\":\"0\",\"ClosedDateTime\":\"2023-06-07T19:48:23Z\",\"Currency\":\"USD\",\"Duration\":\"DAY\",\"FilledPrice\":\"223.4909\",\"Legs\":[{\"OpenOrClose\":\"Close\",\"QuantityOrdered\":\"1\",\"ExecQuantity\":\"1\",\"QuantityRemaining\":\"0\",\"BuyOrSell\":\"Sell\",\"Symbol\":\"TSLA\",\"AssetType\":\"STOCK\",\"ExecutionPrice\":\"223.4909\"}],\"OrderID\":\"967802392\",\"OpenedDateTime\":\"2023-06-07T19:48:23Z\",\"OrderType\":\"Market\",\"PriceUsedForBuyingPower\":\"223.494\",\"Routing\":\"Intelligent\",\"Status\":\"FLL\",\"StatusDescription\":\"Filled\",\"UnbundledRouteFee\":\"0\"},{\"AccountID\":\"11655345\",\"CommissionFee\":\"0\",\"ClosedDateTime\":\"2023-06-07T19:47:41Z\",\"Currency\":\"USD\",\"Duration\":\"DAY\",\"FilledPrice\":\"223.5293\",\"Legs\":[{\"OpenOrClose\":\"Open\",\"QuantityOrdered\":\"1\",\"ExecQuantity\":\"1\",\"QuantityRemaining\":\"0\",\"BuyOrSell\":\"Buy\",\"Symbol\":\"TSLA\",\"AssetType\":\"STOCK\",\"ExecutionPrice\":\"223.5293\"}],\"OrderID\":\"967801753\",\"OpenedDateTime\":\"2023-06-07T19:47:41Z\",\"OrderType\":\"Market\",\"PriceUsedForBuyingPower\":\"223.53\",\"Routing\":\"Intelligent\",\"Status\":\"FLL\",\"StatusDescription\":\"Filled\",\"UnbundledRouteFee\":\"0\"},{\"AccountID\":\"11655345\",\"CommissionFee\":\"0\",\"ClosedDateTime\":\"2023-06-07T19:42:48Z\",\"Currency\":\"USD\",\"Duration\":\"DAY\",\"FilledPrice\":\"224.2401\",\"Legs\":[{\"OpenOrClose\":\"Close\",\"QuantityOrdered\":\"1\",\"ExecQuantity\":\"1\",\"QuantityRemaining\":\"0\",\"BuyOrSell\":\"Sell\",\"Symbol\":\"TSLA\",\"AssetType\":\"STOCK\",\"ExecutionPrice\":\"224.2401\"}],\"OrderID\":\"967798413\",\"OpenedDateTime\":\"2023-06-07T19:42:48Z\",\"OrderType\":\"Market\",\"PriceUsedForBuyingPower\":\"224.2417\",\"Routing\":\"Intelligent\",\"Status\":\"FLL\",\"StatusDescription\":\"Filled\",\"UnbundledRouteFee\":\"0\"},{\"AccountID\":\"11655345\",\"CommissionFee\":\"0\",\"ClosedDateTime\":\"2023-06-07T19:36:03Z\",\"Currency\":\"USD\",\"Duration\":\"DAY\",\"FilledPrice\":\"225.2582\",\"Legs\":[{\"OpenOrClose\":\"Open\",\"QuantityOrdered\":\"1\",\"ExecQuantity\":\"1\",\"QuantityRemaining\":\"0\",\"BuyOrSell\":\"Buy\",\"Symbol\":\"TSLA\",\"AssetType\":\"STOCK\",\"ExecutionPrice\":\"225.2582\"}],\"OrderID\":\"967793406\",\"OpenedDateTime\":\"2023-06-07T19:36:03Z\",\"OrderType\":\"Market\",\"PriceUsedForBuyingPower\":\"225.24\",\"Routing\":\"Intelligent\",\"Status\":\"FLL\",\"StatusDescription\":\"Filled\",\"UnbundledRouteFee\":\"0\"}],\"Errors\":[]}\n",
      "\n"
     ]
    }
   ],
   "metadata": {}
  },
  {
   "cell_type": "code",
   "execution_count": 44,
   "source": [
    "import datetime\n",
    "import requests\n",
    "account_id = \"11655345\"\n",
    "def store_price(symbol):\n",
    "    url = \"https://api.tradestation.com/v3/orderexecution/orderconfirm\"\n",
    "    access_token = refresh()\n",
    "    payload = {\n",
    "        \"AccountID\": account_id,\n",
    "        \"Symbol\": symbol,\n",
    "        \"Quantity\": \"1\",\n",
    "        \"OrderType\": \"Market\",\n",
    "        \"TradeAction\": \"BUY\",\n",
    "        \"TimeInForce\": {\"Duration\": \"DAY\"},\n",
    "        \"Route\": \"Intelligent\"\n",
    "    }\n",
    "    headers = {\"content-type\": \"application/json\", \"Authorization\": f\"Bearer {access_token}\"}\n",
    "\n",
    "    order_time = datetime.datetime.utcnow()\n",
    "    time = order_time.replace(second=order_time.second - order_time.second%10).strftime(\"%Y-%m-%dT%H:%M:%SZ\")\n",
    "    response = requests.request(\"POST\", url, json=payload, headers=headers).json()\n",
    "    print(response)\n",
    "    print(response[\"Confirmations\"][0])\n",
    "    buy_price = response[\"Confirmations\"][0][\"EstimatedPrice\"]\n",
    "    print(buy_price)\n",
    "store_price(\"TSLA\")"
   ],
   "outputs": [
    {
     "output_type": "stream",
     "name": "stdout",
     "text": [
      "{'Confirmations': [{'OrderAssetCategory': 'EQUITY', 'Currency': 'USD', 'Route': 'Intelligent', 'TimeInForce': {'Duration': 'DAY'}, 'AccountID': '11655345', 'OrderConfirmID': 'WJ4EfcDjhUOE5ta3RebvZQ', 'EstimatedPrice': '226.53', 'EstimatedCost': '226.53', 'DebitCreditEstimatedCost': '226.53', 'EstimatedCommission': '0', 'SummaryMessage': 'Buy 1 TSLA @ Market'}]}\n",
      "{'OrderAssetCategory': 'EQUITY', 'Currency': 'USD', 'Route': 'Intelligent', 'TimeInForce': {'Duration': 'DAY'}, 'AccountID': '11655345', 'OrderConfirmID': 'WJ4EfcDjhUOE5ta3RebvZQ', 'EstimatedPrice': '226.53', 'EstimatedCost': '226.53', 'DebitCreditEstimatedCost': '226.53', 'EstimatedCommission': '0', 'SummaryMessage': 'Buy 1 TSLA @ Market'}\n",
      "226.53\n"
     ]
    }
   ],
   "metadata": {}
  },
  {
   "cell_type": "code",
   "execution_count": null,
   "source": [
    "import requests\n",
    "\n",
    "access_token = refresh()\n",
    "account_id = \"11655345\"\n",
    "url = f\"https://api.tradestation.com/v3/brokerage/stream/accounts/{account_id}/orders\"\n",
    "\n",
    "headers = {\"Authorization\": f\"Bearer {access_token}\"}\n",
    "\n",
    "response = requests.request(\"GET\", url, headers=headers, stream=True)\n",
    "\n",
    "for line in response.iter_lines():\n",
    "    if line:\n",
    "        print(line)"
   ],
   "outputs": [],
   "metadata": {}
  },
  {
   "cell_type": "code",
   "execution_count": 4,
   "source": [
    "from test_mongo import MongoExplorer\n",
    "mongo = MongoExplorer()"
   ],
   "outputs": [],
   "metadata": {}
  },
  {
   "cell_type": "code",
   "execution_count": 12,
   "source": [
    "import numpy as np\n",
    "import pandas as pd\n",
    "def calc_real_gain(symbol, date, hour, price_dif_threshold, size_threshold):\n",
    "    collection_1 = f\"{symbol}_10sec_ts_lvl1\"\n",
    "    collection_2 = f\"{symbol}_10sec_ts_lvl2\"\n",
    "    collection_3 = f\"{symbol}_ts_trade_prices\"\n",
    "    start = f'{date}T{hour}:00:00Z'\n",
    "    end = f'{date}T{hour+1}:00:00Z'\n",
    "    query_1 = {'$and': [{'CurTime': {'$gte': start}}, {'CurTime': {'$lt': end}}]}\n",
    "    df_1 = pd.DataFrame(list(mongo.mongoDB[collection_1].find(query_1)))\n",
    "    df_2 = pd.DataFrame(list(mongo.mongoDB[collection_2].find(query_1)))\n",
    "    df = pd.merge(df_1, df_2, on=\"CurTime\")\n",
    "    df.loc[df[\"Side\"] == \"Bid\", \"Dif\"] = (df[\"Price\"] - df[\"Last\"])\n",
    "    df.loc[df[\"Side\"] == \"Ask\", \"Dif\"] = (df[\"Last\"] - df[\"Price\"])\n",
    "    df.loc[df[\"Side\"] == \"Ask\", \"TotalSize\"] *= -1\n",
    "    df = df.loc[df[\"Dif\"] >= price_dif_threshold]\n",
    "    \n",
    "    df[\"VolumeSum\"] = df[\"TotalSize\"] * df[\"Dif\"]\n",
    "    df = df.rename(columns={\"CurTime\": \"Time\"})\n",
    "    sum_df = pd.DataFrame(df.groupby(\"Time\")[\"VolumeSum\"].sum()).reset_index()\n",
    "    sum_df = sum_df[(sum_df[\"VolumeSum\"] >= size_threshold) | (sum_df[\"VolumeSum\"] <= -size_threshold)]\n",
    "    sum_df[\"Long\"] = sum_df[\"VolumeSum\"] >= size_threshold\n",
    "    sum_df[\"Short\"] = sum_df[\"VolumeSum\"] <= -size_threshold\n",
    "\n",
    "    query_3 = {'$and': [{'Time': {'$gte': start}}, {'Time': {'$lt': end}}]}\n",
    "    df_3 = pd.DataFrame(list(mongo.mongoDB[collection_3].find(query_3)))\n",
    "    final_df = pd.merge(sum_df, df_3, on=\"Time\")\n",
    "    final_df = final_df[[\"Time\", \"VolumeSum\", \"Long\", \"Short\", \"BUY\", \"SELL\"]]\n",
    "    final_df = final_df[final_df[\"BUY\"].notna() & final_df[\"SELL\"].notna()]\n",
    "\n",
    "    if len(final_df) < 2:\n",
    "        return 0\n",
    "\n",
    "    final_df[\"Buy Action\"] = final_df[\"Long\"] & final_df[\"Short\"].shift()\n",
    "    if final_df.iloc[0, final_df.columns.get_loc(\"Long\")]:\n",
    "        final_df.iloc[0, final_df.columns.get_loc(\"Buy Action\")] = True\n",
    "    final_df.iloc[len(final_df) - 1, final_df.columns.get_loc(\"Buy Action\")] = False\n",
    "    final_df[\"Sell Action\"] = final_df[\"Short\"] & final_df[\"Long\"].shift()\n",
    "    if final_df.iloc[len(final_df) - 2, final_df.columns.get_loc(\"Long\")]:\n",
    "        final_df.iloc[len(final_df) - 1, final_df.columns.get_loc(\"Sell Action\")] = True\n",
    "    #final_df.to_csv(\"tradestation_data/TSLA_test.csv\")\n",
    "\n",
    "    final_df.loc[final_df[\"Buy Action\"], \"Gain\"] = -pd.to_numeric(final_df.loc[final_df[\"Buy Action\"], \"BUY\"]) \n",
    "    final_df.loc[final_df[\"Sell Action\"], \"Gain\"] = pd.to_numeric(final_df.loc[final_df[\"Sell Action\"], \"SELL\"])\n",
    "    #print(final_df)\n",
    "    ret = final_df[\"Gain\"].sum()\n",
    "    # for i in range(1, 24, 1):\n",
    "    #     final_df[f\"{i}0sec Dif\"] = final_df[\"SELL\"].shift(-i) - final_df[\"BUY\"]\n",
    "    #     final_df[f\"{i}0sec Short Dif\"] = final_df[\"SELL\"] - final_df[\"BUY\"].shift(-i)\n",
    "    #     final_df.loc[final_df[\"Long\"], f\"{i}0sec Gain\"] = final_df[f\"{i}0sec Dif\"]\n",
    "    #     final_df.loc[final_df[\"Short\"], f\"{i}0sec Short Gain\"] = final_df[f\"{i}0sec Short Dif\"]\n",
    "    #     ret_list.append([final_df[f\"{i}0sec Gain\"].sum(), final_df[f\"{i}0sec Short Gain\"].sum()])\n",
    "    # final_df = final_df[final_df[\"VolumeSum\"].notnull()]\n",
    "    # final_df.to_csv(f\"tradestation_data/{symbol}_{date}_real_gain.csv\")\n",
    "    return ret\n",
    "symbol = \"TSLA\"\n",
    "#price_dif_threshold = .03\n",
    "size_threshold = 1\n",
    "# for size_threshold in range(1, 100, 1):\n",
    "days = [\"08\", \"09\", \"12\", \"13\", \"14\"]\n",
    "days = [\"13\", \"14\"]\n",
    "hour = 13\n",
    "# for hour in range(14, 20):\n",
    "log_list = []\n",
    "i = 100\n",
    "for price_dif_threshold in np.arange(.2, -.1, -.001):\n",
    "    entry = [price_dif_threshold, size_threshold]\n",
    "    total = 0\n",
    "    for day in days:\n",
    "        date = f\"2023-06-{day}\"\n",
    "        entry.append(calc_real_gain(symbol, date, hour, price_dif_threshold, size_threshold))\n",
    "        total += entry[-1]\n",
    "    entry.append(total)\n",
    "    log_list.append(entry)\n",
    "    if i == 100:\n",
    "        print(log_list[-1])\n",
    "        i = 0\n",
    "    i += 1\n",
    "out_df = pd.DataFrame(log_list)\n",
    "out_df.to_csv(f\"tradestation_data/TSLA_{hour}_threshold_tests.csv\")\n"
   ],
   "outputs": [
    {
     "output_type": "stream",
     "name": "stdout",
     "text": [
      "[0.2, 1, 0.2599999999999909, 0, 0.2599999999999909]\n",
      "[0.09999999999999992, 1, 0.2599999999999909, -0.8499999999999659, -0.589999999999975]\n",
      "[-1.6653345369377348e-16, 1, -2.6900000000001683, -5.110000000000184, -7.800000000000352]\n",
      "[-0.10000000000000026, 1, -1.7899999999999636, -1.7400000000004638, -3.5300000000004275]\n"
     ]
    }
   ],
   "metadata": {}
  },
  {
   "cell_type": "code",
   "execution_count": 14,
   "source": [
    "def get_max_volume(symbol, start_date, end_date):\n",
    "    collection_1 = f\"{symbol}_10sec_ts_lvl1\"\n",
    "    collection_2 = f\"{symbol}_10sec_ts_lvl2\"\n",
    "    start = f'2023-06-{start_date}T13:30:00Z'\n",
    "    end = f'2023-06-{end_date}T20:00:00Z'\n",
    "    query = {'$and': [{'CurTime': {'$gte': start}}, {'CurTime': {'$lt': end}}]}\n",
    "    df_1 = pd.DataFrame(list(mongo.mongoDB[collection_1].find(query)))\n",
    "    df_2 = pd.DataFrame(list(mongo.mongoDB[collection_2].find(query)))\n",
    "    df = pd.merge(df_1, df_2, on=\"CurTime\")\n",
    "    df.loc[df[\"Side\"] == \"Bid\", \"Dif\"] = (df[\"Price\"] - df[\"Last\"])\n",
    "    df.loc[df[\"Side\"] == \"Ask\", \"Dif\"] = (df[\"Last\"] - df[\"Price\"])\n",
    "    return df[\"TotalSize\"].max(), df[\"TotalSize\"].min(), df[\"TotalSize\"].mean(), df[\"Dif\"].max(), df[\"Dif\"].min(), df[\"Dif\"].mean() \n",
    "\n",
    "symbol = \"TSLA\"\n",
    "start_date = \"08\"\n",
    "end_date = \"14\"\n",
    "print(get_max_volume(symbol, start_date, end_date))"
   ],
   "outputs": [
    {
     "output_type": "stream",
     "name": "stdout",
     "text": [
      "(225600.0, 1.0, 487.7769264200571, 5.219999999999999, -250.45, -3.205123899786772)\n"
     ]
    }
   ],
   "metadata": {}
  },
  {
   "cell_type": "code",
   "execution_count": 29,
   "source": [
    "def get_spread(symbol, start_date, end_date):\n",
    "    collection_1 = f\"{symbol}_10sec_ts_lvl1\"\n",
    "    collection_2 = f\"{symbol}_ts_trade_prices\"\n",
    "    start = f'2023-06-{start_date}T13:30:00Z'\n",
    "    end = f'2023-06-{end_date}T20:00:00Z'\n",
    "    query = {'$and': [{'CurTime': {'$gte': start}}, {'CurTime': {'$lt': end}}]}\n",
    "    df_1 = pd.DataFrame(list(mongo.mongoDB[collection_1].find(query)))\n",
    "    query = {'$and': [{'Time': {'$gte': start}}, {'Time': {'$lt': end}}]}\n",
    "    df_2 = pd.DataFrame(list(mongo.mongoDB[collection_2].find(query)))\n",
    "    df_2 = df_2.rename(columns={\"Time\": \"CurTime\"})\n",
    "    df = pd.merge(df_1, df_2, on=\"CurTime\")\n",
    "    df = df[df[\"BUY\"].notnull() & df[\"SELL\"].notnull() & df[\"Last\"].notnull()]\n",
    "    df[\"BUY\"] = pd.to_numeric(df[\"BUY\"])\n",
    "    df[\"SELL\"] = pd.to_numeric(df[\"SELL\"])\n",
    "    df[\"Buy Dif\"] = df[\"BUY\"] - df[\"Last\"]\n",
    "    df[\"Sell Dif\"] = df[\"Last\"] - df[\"SELL\"]\n",
    "    df[\"Spread\"] = df[\"BUY\"] - df[\"SELL\"]\n",
    "    print(df[\"BUY\"].min())\n",
    "    print(df[\"Last\"].min())\n",
    "    return df[\"Buy Dif\"].max(), df[\"Buy Dif\"].min(), df[\"Buy Dif\"].mean(), df[\"Sell Dif\"].max(), df[\"Sell Dif\"].min(), df[\"Sell Dif\"].mean(), df[\"Spread\"].max(), df[\"Spread\"].min(), df[\"Spread\"].mean()\n",
    "\n",
    "symbol = \"TSLA\"\n",
    "start_date = \"13\"\n",
    "end_date = \"14\"\n",
    "print(get_spread(symbol, start_date, end_date))"
   ],
   "outputs": [
    {
     "output_type": "stream",
     "name": "stdout",
     "text": [
      "250.62\n",
      "250.756\n",
      "(0.4300000000000068, -0.5999999999999943, 0.018423414845271262, 0.7199999999999989, -0.3147000000000162, 0.01798645314866967, 0.20000000000001705, -0.06999999999999318, 0.036409867993940935)\n"
     ]
    }
   ],
   "metadata": {}
  }
 ],
 "metadata": {
  "orig_nbformat": 4,
  "language_info": {
   "name": "python",
   "version": "3.11.3",
   "mimetype": "text/x-python",
   "codemirror_mode": {
    "name": "ipython",
    "version": 3
   },
   "pygments_lexer": "ipython3",
   "nbconvert_exporter": "python",
   "file_extension": ".py"
  },
  "kernelspec": {
   "name": "python3",
   "display_name": "Python 3.11.3 64-bit ('trading_env': conda)"
  },
  "interpreter": {
   "hash": "cb1ef840c899288e1e9c910483dc767869c95ccfa937d49ced9579438bbda641"
  }
 },
 "nbformat": 4,
 "nbformat_minor": 2
}