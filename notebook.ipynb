{
 "cells": [
  {
   "cell_type": "code",
   "execution_count": 4,
   "source": [
    "import requests\n",
    "\n",
    "auth_url = \"https://signin.tradestation.com/authorize\"\n",
    "\n",
    "public_key = \"r4bJ08Nbz9f8b6djDhoyCmazNnrrLFL4\"\n",
    "private_key = \"hFBk8xgV_UGJEUFnxVW-AFz6YToqZwdvM-48x5wLUQhzKiR99r2w780hL0giBfvd\"\n",
    "\n",
    "params = {\"response_type\": \"code\", \"client_id\": public_key, \"redirect_uri\": \"http://localhost\", \"audience\": \"https://api.tradestation.com\", \"state\": \"STATE\", \n",
    "        \"scope\": \"openid offline_access profile MarketData ReadAccount Trade Crypto Matrix OptionSpreads\"}\n",
    "\n",
    "response = requests.get(auth_url, params=params)\n",
    "response.history\n",
    "for resp in response.history:\n",
    "        print(resp.status_code, resp.url)"
   ],
   "outputs": [
    {
     "output_type": "stream",
     "name": "stdout",
     "text": [
      "302 https://signin.tradestation.com/authorize?response_type=code&client_id=r4bJ08Nbz9f8b6djDhoyCmazNnrrLFL4&redirect_uri=http%3A%2F%2Flocalhost&audience=https%3A%2F%2Fapi.tradestation.com&state=STATE&scope=openid+offline_access+profile+MarketData+ReadAccount+Trade+Crypto+Matrix+OptionSpreads\n"
     ]
    }
   ],
   "metadata": {}
  },
  {
   "cell_type": "code",
   "execution_count": null,
   "source": [
    "import requests\n",
    "\n",
    "token_url = \"https://signin.tradestation.com/oauth/token\"\n",
    "\n",
    "authorization_code = \"xxMZvFaqtX95pCIj\"\n",
    "\n",
    "headers = {\"content-type\": \"application/x-www-form-urlencoded\"}\n",
    "data = {\"grant_type\": \"authorization_code\", \"client_id\": public_key, \"client_secret\": private_key, \"code\": authorization_code, \"redirect_uri\": \"http://localhost\"}\n",
    "\n",
    "r = requests.post(token_url, headers=headers, data=data).json()\n",
    "print(r)\n",
    "\n",
    "access_token = r[\"access_token\"]\n",
    "refresh_token = r[\"refresh_token\"]\n",
    "id_token = r[\"id_token\"]"
   ],
   "outputs": [],
   "metadata": {}
  },
  {
   "cell_type": "code",
   "execution_count": 2,
   "source": [
    "import requests\n",
    "refresh_token = \"lzijZJe0VUnjFEzq6dqWK-Q3rqhzyoq7kkrDkqVoJvoYn\"\n",
    "def refresh():\n",
    "    token_url = \"https://signin.tradestation.com/oauth/token\"\n",
    "\n",
    "    headers = {\"content-type\": \"application/x-www-form-urlencoded\"}\n",
    "    data = {\"grant_type\": \"refresh_token\", \"client_id\": public_key, \"client_secret\": private_key, \"refresh_token\": refresh_token}\n",
    "\n",
    "    r = requests.post(token_url, headers=headers, data=data).json()\n",
    "\n",
    "    access_token = r[\"access_token\"]\n",
    "    return access_token"
   ],
   "outputs": [],
   "metadata": {}
  },
  {
   "cell_type": "code",
   "execution_count": null,
   "source": [
    "import requests\n",
    "import pandas as pd\n",
    "import json\n",
    "import csv\n",
    "\n",
    "url = \"https://api.tradestation.com/v3/marketdata/barcharts/TSLA\"\n",
    "\n",
    "headers = {\"Authorization\": f\"Bearer {access_token}\"}\n",
    "\n",
    "params = {\"unit\": \"Minute\", \"firstdate\": \"2016-12-05T21:00:00Z\", \"lastdate\": \"2016-12-06T21:00:00Z\"}\n",
    "\n",
    "response = requests.request(\"GET\", url, headers=headers, stream=True, params=params)\n",
    "print(response)\n",
    "if response.status_code == 401:\n",
    "    access_token = refresh()\n",
    "    headers = {\"Authorization\": f\"Bearer {access_token}\"}\n",
    "    response = requests.request(\"GET\", url, headers=headers, stream=True, params=params)\n",
    "    print(response)\n",
    "response = response.json()\n",
    "    \n",
    "fieldnames = list(response[\"Bars\"][0].keys())\n",
    "with open(\"tradestation_data/tsla_2016_12_05_2016_12_06.csv\", \"w\", newline=\"\") as csvfile:\n",
    "    writer = csv.DictWriter(csvfile, fieldnames=fieldnames)\n",
    "\n",
    "    writer.writeheader()\n",
    "    for row in response[\"Bars\"]:\n",
    "        writer.writerow(row)"
   ],
   "outputs": [],
   "metadata": {}
  },
  {
   "cell_type": "code",
   "execution_count": null,
   "source": [
    "def stream_lvl1_quotes(symbol):\n",
    "    url = f\"https://api.tradestation.com/v3/marketdata/stream/quotes/{symbol}\"\n",
    "    while True:\n",
    "        try:\n",
    "            access_token = refresh()\n",
    "            headers = {\"Authorization\": f\"Bearer {access_token}\"}\n",
    "\n",
    "            response = requests.get(url, headers=headers, stream=True)\n",
    "            if response.status_code != 200:\n",
    "                print(f\"{symbol} {response} {response.text}\")\n",
    "                continue   \n",
    "\n",
    "            for line in response.iter_lines():\n",
    "                if line:\n",
    "                    row = json.loads(line)\n",
    "                    if \"Error\" in row:\n",
    "                        print(f\"{symbol} {response} {response.text}\")\n",
    "                        continue\n",
    "                    if \"Heartbeat\" in row:\n",
    "                        continue\n",
    "                    print(row)\n",
    "        except Exception as e:\n",
    "            print(f\"{symbol} {e}\")\n",
    "            continue"
   ],
   "outputs": [],
   "metadata": {}
  },
  {
   "cell_type": "code",
   "execution_count": null,
   "source": [
    "import os\n",
    "import csv\n",
    "import json\n",
    "import pandas as pd\n",
    "import datetime\n",
    "import time\n",
    "\n",
    "def stream_lvl2_quotes(symbol):\n",
    "    url = f\"https://api.tradestation.com/v3/marketdata/stream/marketdepth/aggregates/{symbol}\"\n",
    "    while True:\n",
    "        try:\n",
    "            access_token = refresh()\n",
    "            headers = {\"Authorization\": f\"Bearer {access_token}\"}\n",
    "\n",
    "            response = requests.get(url, headers=headers, stream=True)\n",
    "            if response.status_code != 200:\n",
    "                print(f\"{symbol} {response} {response.text}\")\n",
    "                continue            \n",
    "            \n",
    "            for line in response.iter_lines():\n",
    "                if line:\n",
    "                    bids_and_asks = json.loads(line)\n",
    "                    if \"Heartbeat\" in bids_and_asks:\n",
    "                        continue\n",
    "                    print(bids_and_asks)\n",
    "        except Exception as e:\n",
    "            print(f\"{symbol} {e}\")\n",
    "            break\n",
    "                    \n",
    "symbols = \"TSLA\"\n",
    "stream_lvl2_quotes(symbols)"
   ],
   "outputs": [],
   "metadata": {}
  },
  {
   "cell_type": "code",
   "execution_count": 16,
   "source": [
    "from test_mongo import MongoExplorer\n",
    "mongo = MongoExplorer()\n",
    "mongo"
   ],
   "outputs": [
    {
     "output_type": "error",
     "ename": "ModuleNotFoundError",
     "evalue": "No module named 'pymongo'",
     "traceback": [
      "\u001b[0;31m---------------------------------------------------------------------------\u001b[0m",
      "\u001b[0;31mModuleNotFoundError\u001b[0m                       Traceback (most recent call last)",
      "Cell \u001b[0;32mIn[16], line 1\u001b[0m\n\u001b[0;32m----> 1\u001b[0m \u001b[38;5;28;01mfrom\u001b[39;00m \u001b[38;5;21;01mtest_mongo\u001b[39;00m \u001b[38;5;28;01mimport\u001b[39;00m MongoExplorer\n\u001b[1;32m      2\u001b[0m mongo \u001b[38;5;241m=\u001b[39m MongoExplorer()\n\u001b[1;32m      3\u001b[0m mongo\n",
      "File \u001b[0;32m~/riverhill/test_mongo.py:2\u001b[0m\n\u001b[1;32m      1\u001b[0m \u001b[38;5;28;01mimport\u001b[39;00m \u001b[38;5;21;01mlogging\u001b[39;00m\n\u001b[0;32m----> 2\u001b[0m \u001b[38;5;28;01mimport\u001b[39;00m \u001b[38;5;21;01mpymongo\u001b[39;00m\n\u001b[1;32m      3\u001b[0m \u001b[38;5;28;01mimport\u001b[39;00m \u001b[38;5;21;01mpandas\u001b[39;00m \u001b[38;5;28;01mas\u001b[39;00m \u001b[38;5;21;01mpd\u001b[39;00m\n\u001b[1;32m      5\u001b[0m \u001b[38;5;28;01mclass\u001b[39;00m \u001b[38;5;21;01mMongoExplorer\u001b[39;00m:\n",
      "\u001b[0;31mModuleNotFoundError\u001b[0m: No module named 'pymongo'"
     ]
    }
   ],
   "metadata": {}
  },
  {
   "cell_type": "code",
   "execution_count": 14,
   "source": [
    "import numpy as np\n",
    "import pandas as pd\n",
    "def calc_gain(symbol, date, price_dif_threshold, size_threshold):\n",
    "    collection_1 = f\"{symbol}_10sec_ts_lvl1\"\n",
    "    collection_2 = f\"{symbol}_10sec_ts_lvl2\"\n",
    "    start = f'{date}T13:30:00Z'\n",
    "    end = f'{date}T20:00:00Z'\n",
    "    query = {'$and': [{'CurTime': {'$gte': start}}, {'CurTime': {'$lt': end}}]}\n",
    "    df_1 = pd.DataFrame(list(mongo.mongoDB[collection_1].find(query)))\n",
    "    df_2 = pd.DataFrame(list(mongo.mongoDB[collection_2].find(query)))\n",
    "    df = pd.merge(df_1, df_2, on=\"CurTime\")\n",
    "    df.loc[df[\"Side\"] == \"Bid\", \"Dif\"] = (df[\"Price\"] - df[\"Last\"])\n",
    "    df.loc[df[\"Side\"] == \"Ask\", \"Dif\"] = (df[\"Last\"] - df[\"Price\"])\n",
    "    df.loc[df[\"Side\"] == \"Ask\", \"TotalSize\"] *= -1\n",
    "    df = df.loc[df[\"Dif\"] >= price_dif_threshold]\n",
    "    sum_df = df.groupby(\"CurTime\")[\"TotalSize\"].sum()\n",
    "    final_df = pd.merge(sum_df, df_1, on=\"CurTime\")[[\"TradeTime\", \"Last\", \"TotalSize\"]]\n",
    "    final_df = final_df.rename(columns={\"TotalSize\": \"VolumeSum\"})\n",
    "    final_df[\"LastDif\"] = final_df[\"Last\"].diff().shift(-1)\n",
    "    final_df[\"SameSign\"] = (final_df[\"VolumeSum\"] > 0) == (final_df[\"LastDif\"] > 0)\n",
    "    # print(final_df[\"SameSign\"].sum())\n",
    "    # print(len(final_df))\n",
    "    final_df.loc[final_df[\"VolumeSum\"]>=size_threshold, \"Gain\"] = final_df[\"LastDif\"]\n",
    "    final_df.loc[final_df[\"VolumeSum\"]<size_threshold, \"Gain\"] = 0\n",
    "    final_df[\"Gain\"] = (final_df[\"Gain\"] * 100).apply(np.floor) / 100\n",
    "    print(final_df)\n",
    "    final_df.to_csv(f\"tradestation_data/tsla_{date}_gain.csv\")\n",
    "    return final_df[\"Gain\"].sum()\n",
    "symbol = \"TSLA\"\n",
    "date = \"2023-06-07\"\n",
    "#for price_dif_threshold in np.arange(-.005, -0.03, -.001):\n",
    "price_dif_threshold = -.015\n",
    "size_threshold = 0\n",
    "print(f\"{price_dif_threshold} {size_threshold} {calc_gain(symbol, date, price_dif_threshold, size_threshold)}\")\n"
   ],
   "outputs": [
    {
     "output_type": "error",
     "ename": "NameError",
     "evalue": "name 'mongo' is not defined",
     "traceback": [
      "\u001b[0;31m---------------------------------------------------------------------------\u001b[0m",
      "\u001b[0;31mNameError\u001b[0m                                 Traceback (most recent call last)",
      "Cell \u001b[0;32mIn[14], line 34\u001b[0m\n\u001b[1;32m     32\u001b[0m price_dif_threshold \u001b[38;5;241m=\u001b[39m \u001b[38;5;241m-\u001b[39m\u001b[38;5;241m.015\u001b[39m\n\u001b[1;32m     33\u001b[0m size_threshold \u001b[38;5;241m=\u001b[39m \u001b[38;5;241m0\u001b[39m\n\u001b[0;32m---> 34\u001b[0m \u001b[38;5;28mprint\u001b[39m(\u001b[38;5;124mf\u001b[39m\u001b[38;5;124m\"\u001b[39m\u001b[38;5;132;01m{\u001b[39;00mprice_dif_threshold\u001b[38;5;132;01m}\u001b[39;00m\u001b[38;5;124m \u001b[39m\u001b[38;5;132;01m{\u001b[39;00msize_threshold\u001b[38;5;132;01m}\u001b[39;00m\u001b[38;5;124m \u001b[39m\u001b[38;5;132;01m{\u001b[39;00m\u001b[43mcalc_gain\u001b[49m\u001b[43m(\u001b[49m\u001b[43msymbol\u001b[49m\u001b[43m,\u001b[49m\u001b[38;5;250;43m \u001b[39;49m\u001b[43mdate\u001b[49m\u001b[43m,\u001b[49m\u001b[38;5;250;43m \u001b[39;49m\u001b[43mprice_dif_threshold\u001b[49m\u001b[43m,\u001b[49m\u001b[38;5;250;43m \u001b[39;49m\u001b[43msize_threshold\u001b[49m\u001b[43m)\u001b[49m\u001b[38;5;132;01m}\u001b[39;00m\u001b[38;5;124m\"\u001b[39m)\n",
      "Cell \u001b[0;32mIn[14], line 9\u001b[0m, in \u001b[0;36mcalc_gain\u001b[0;34m(symbol, date, price_dif_threshold, size_threshold)\u001b[0m\n\u001b[1;32m      7\u001b[0m end \u001b[38;5;241m=\u001b[39m \u001b[38;5;124mf\u001b[39m\u001b[38;5;124m'\u001b[39m\u001b[38;5;132;01m{\u001b[39;00mdate\u001b[38;5;132;01m}\u001b[39;00m\u001b[38;5;124mT20:00:00Z\u001b[39m\u001b[38;5;124m'\u001b[39m\n\u001b[1;32m      8\u001b[0m query \u001b[38;5;241m=\u001b[39m {\u001b[38;5;124m'\u001b[39m\u001b[38;5;124m$and\u001b[39m\u001b[38;5;124m'\u001b[39m: [{\u001b[38;5;124m'\u001b[39m\u001b[38;5;124mCurTime\u001b[39m\u001b[38;5;124m'\u001b[39m: {\u001b[38;5;124m'\u001b[39m\u001b[38;5;124m$gte\u001b[39m\u001b[38;5;124m'\u001b[39m: start}}, {\u001b[38;5;124m'\u001b[39m\u001b[38;5;124mCurTime\u001b[39m\u001b[38;5;124m'\u001b[39m: {\u001b[38;5;124m'\u001b[39m\u001b[38;5;124m$lt\u001b[39m\u001b[38;5;124m'\u001b[39m: end}}]}\n\u001b[0;32m----> 9\u001b[0m df_1 \u001b[38;5;241m=\u001b[39m pd\u001b[38;5;241m.\u001b[39mDataFrame(\u001b[38;5;28mlist\u001b[39m(\u001b[43mmongo\u001b[49m\u001b[38;5;241m.\u001b[39mmongoDB[collection_1]\u001b[38;5;241m.\u001b[39mfind(query)))\n\u001b[1;32m     10\u001b[0m df_2 \u001b[38;5;241m=\u001b[39m pd\u001b[38;5;241m.\u001b[39mDataFrame(\u001b[38;5;28mlist\u001b[39m(mongo\u001b[38;5;241m.\u001b[39mmongoDB[collection_2]\u001b[38;5;241m.\u001b[39mfind(query)))\n\u001b[1;32m     11\u001b[0m df \u001b[38;5;241m=\u001b[39m pd\u001b[38;5;241m.\u001b[39mmerge(df_1, df_2, on\u001b[38;5;241m=\u001b[39m\u001b[38;5;124m\"\u001b[39m\u001b[38;5;124mCurTime\u001b[39m\u001b[38;5;124m\"\u001b[39m)\n",
      "\u001b[0;31mNameError\u001b[0m: name 'mongo' is not defined"
     ]
    }
   ],
   "metadata": {}
  },
  {
   "cell_type": "code",
   "execution_count": null,
   "source": [
    "def read_lvl1(symbol, time):\n",
    "    collection = f\"{symbol}_10sec_ts_lvl1\"\n",
    "    query = {\"CurTime\": time}\n",
    "    lvl1 = None\n",
    "    while lvl1 is None:\n",
    "        lvl1 = mongo.mongoDB[collection].find_one(query)\n",
    "        print(lvl1)\n",
    "    return None\n",
    "symbol = \"TSLA\"\n",
    "time = \"2023-06-07T18:56:40Z\"\n",
    "print(read_lvl1(symbol, time))"
   ],
   "outputs": [],
   "metadata": {}
  },
  {
   "cell_type": "code",
   "execution_count": 153,
   "source": [
    "import datetime\n",
    "timenow = datetime.datetime.utcnow()\n",
    "print(timenow)\n",
    "timenow = timenow.replace(second=timenow.second - timenow.second % 10)\n",
    "print(timenow)"
   ],
   "outputs": [
    {
     "output_type": "stream",
     "name": "stdout",
     "text": [
      "2023-06-07 19:10:33.328367\n",
      "2023-06-07 19:10:30.328367\n"
     ]
    }
   ],
   "metadata": {}
  },
  {
   "cell_type": "code",
   "execution_count": 5,
   "source": [
    "import requests\n",
    "account_id = \"11655345\"\n",
    "def buy_share(symbol):\n",
    "    access_token = refresh()\n",
    "\n",
    "    url = \"https://api.tradestation.com/v3/orderexecution/orders\"\n",
    "\n",
    "    payload = {\n",
    "        \"AccountID\": \"11655345\",\n",
    "        \"Symbol\": f\"{symbol}\",\n",
    "        \"Quantity\": \"1\",\n",
    "        \"OrderType\": \"Market\",\n",
    "        \"TradeAction\": \"BUY\",\n",
    "        \"TimeInForce\": {\"Duration\": \"DAY\"},\n",
    "        \"Route\": \"Intelligent\"\n",
    "    }\n",
    "    headers = {\n",
    "        \"content-type\": \"application/json\",\n",
    "        \"Authorization\": f\"Bearer {access_token}\"\n",
    "    }\n",
    "\n",
    "    response = requests.request(\"POST\", url, json=payload, headers=headers)\n",
    "\n",
    "    print(response.text)\n",
    "buy_share(\"TSLA\")"
   ],
   "outputs": [
    {
     "output_type": "stream",
     "name": "stdout",
     "text": [
      "{\"Orders\":[{\"Message\":\"Sent order: Buy 1 TSLA @ Market\",\"OrderID\":\"967793406\"}]}\n",
      "\n"
     ]
    }
   ],
   "metadata": {}
  },
  {
   "cell_type": "code",
   "execution_count": 11,
   "source": [
    "import requests\n",
    "def sell_share(symbol):\n",
    "    access_token = refresh()\n",
    "\n",
    "    url = \"https://api.tradestation.com/v3/orderexecution/orders\"\n",
    "\n",
    "    payload = {\n",
    "        \"AccountID\": \"11655345\",\n",
    "        \"Symbol\": f\"{symbol}\",\n",
    "        \"Quantity\": \"1\",\n",
    "        \"OrderType\": \"Market\",\n",
    "        \"TradeAction\": \"SELL\",\n",
    "        \"TimeInForce\": {\"Duration\": \"DAY\"},\n",
    "        \"Route\": \"Intelligent\"\n",
    "    }\n",
    "    headers = {\n",
    "        \"content-type\": \"application/json\",\n",
    "        \"Authorization\": f\"Bearer {access_token}\"\n",
    "    }\n",
    "\n",
    "    response = requests.request(\"POST\", url, json=payload, headers=headers)\n",
    "\n",
    "    print(response.text)\n",
    "sell_share(\"TSLA\")"
   ],
   "outputs": [
    {
     "output_type": "stream",
     "name": "stdout",
     "text": [
      "{\"Orders\":[{\"Message\":\"Sent order: Sell 1 TSLA @ Market\",\"OrderID\":\"967802392\"}]}\n",
      "\n"
     ]
    }
   ],
   "metadata": {}
  },
  {
   "cell_type": "code",
   "execution_count": 13,
   "source": [
    "import requests\n",
    "def check_status():\n",
    "    access_token = refresh()\n",
    "    url = \"https://api.tradestation.com/v3/brokerage/accounts/11655345/orders\"\n",
    "\n",
    "    headers = {\"Authorization\": f\"Bearer {access_token}\"}\n",
    "\n",
    "    response = requests.request(\"GET\", url, headers=headers)\n",
    "\n",
    "    print(response.text)\n",
    "check_status()"
   ],
   "outputs": [
    {
     "output_type": "stream",
     "name": "stdout",
     "text": [
      "{\"Orders\":[{\"AccountID\":\"11655345\",\"CommissionFee\":\"0\",\"ClosedDateTime\":\"2023-06-07T19:53:10Z\",\"Currency\":\"USD\",\"Duration\":\"DAY\",\"FilledPrice\":\"0\",\"Legs\":[{\"QuantityOrdered\":\"1\",\"ExecQuantity\":\"0\",\"QuantityRemaining\":\"0\",\"BuyOrSell\":\"Buy\",\"Symbol\":\"TSLA\",\"AssetType\":\"STOCK\"}],\"OrderID\":\"967805697\",\"OpenedDateTime\":\"2023-06-07T19:53:10Z\",\"OrderType\":\"Market\",\"PriceUsedForBuyingPower\":\"224.98\",\"RejectReason\":\"EC501: Day trading margin rules, this trade can possibly designate you as a pattern day trader, please call the Trade Desk at 800-871-3563 for more information.\",\"Routing\":\"Intelligent\",\"Status\":\"REJ\",\"StatusDescription\":\"Rejected\",\"UnbundledRouteFee\":\"0\"},{\"AccountID\":\"11655345\",\"CommissionFee\":\"0\",\"ClosedDateTime\":\"2023-06-07T19:53:00Z\",\"Currency\":\"USD\",\"Duration\":\"DAY\",\"FilledPrice\":\"224.9699\",\"Legs\":[{\"OpenOrClose\":\"Open\",\"QuantityOrdered\":\"1\",\"ExecQuantity\":\"1\",\"QuantityRemaining\":\"0\",\"BuyOrSell\":\"Buy\",\"Symbol\":\"TSLA\",\"AssetType\":\"STOCK\",\"ExecutionPrice\":\"224.9699\"}],\"OrderID\":\"967805597\",\"OpenedDateTime\":\"2023-06-07T19:53:00Z\",\"OrderType\":\"Market\",\"PriceUsedForBuyingPower\":\"224.9682\",\"Routing\":\"Intelligent\",\"Status\":\"FLL\",\"StatusDescription\":\"Filled\",\"UnbundledRouteFee\":\"0\"},{\"AccountID\":\"11655345\",\"CommissionFee\":\"0\",\"ClosedDateTime\":\"2023-06-07T19:48:23Z\",\"Currency\":\"USD\",\"Duration\":\"DAY\",\"FilledPrice\":\"223.4909\",\"Legs\":[{\"OpenOrClose\":\"Close\",\"QuantityOrdered\":\"1\",\"ExecQuantity\":\"1\",\"QuantityRemaining\":\"0\",\"BuyOrSell\":\"Sell\",\"Symbol\":\"TSLA\",\"AssetType\":\"STOCK\",\"ExecutionPrice\":\"223.4909\"}],\"OrderID\":\"967802392\",\"OpenedDateTime\":\"2023-06-07T19:48:23Z\",\"OrderType\":\"Market\",\"PriceUsedForBuyingPower\":\"223.494\",\"Routing\":\"Intelligent\",\"Status\":\"FLL\",\"StatusDescription\":\"Filled\",\"UnbundledRouteFee\":\"0\"},{\"AccountID\":\"11655345\",\"CommissionFee\":\"0\",\"ClosedDateTime\":\"2023-06-07T19:47:41Z\",\"Currency\":\"USD\",\"Duration\":\"DAY\",\"FilledPrice\":\"223.5293\",\"Legs\":[{\"OpenOrClose\":\"Open\",\"QuantityOrdered\":\"1\",\"ExecQuantity\":\"1\",\"QuantityRemaining\":\"0\",\"BuyOrSell\":\"Buy\",\"Symbol\":\"TSLA\",\"AssetType\":\"STOCK\",\"ExecutionPrice\":\"223.5293\"}],\"OrderID\":\"967801753\",\"OpenedDateTime\":\"2023-06-07T19:47:41Z\",\"OrderType\":\"Market\",\"PriceUsedForBuyingPower\":\"223.53\",\"Routing\":\"Intelligent\",\"Status\":\"FLL\",\"StatusDescription\":\"Filled\",\"UnbundledRouteFee\":\"0\"},{\"AccountID\":\"11655345\",\"CommissionFee\":\"0\",\"ClosedDateTime\":\"2023-06-07T19:42:48Z\",\"Currency\":\"USD\",\"Duration\":\"DAY\",\"FilledPrice\":\"224.2401\",\"Legs\":[{\"OpenOrClose\":\"Close\",\"QuantityOrdered\":\"1\",\"ExecQuantity\":\"1\",\"QuantityRemaining\":\"0\",\"BuyOrSell\":\"Sell\",\"Symbol\":\"TSLA\",\"AssetType\":\"STOCK\",\"ExecutionPrice\":\"224.2401\"}],\"OrderID\":\"967798413\",\"OpenedDateTime\":\"2023-06-07T19:42:48Z\",\"OrderType\":\"Market\",\"PriceUsedForBuyingPower\":\"224.2417\",\"Routing\":\"Intelligent\",\"Status\":\"FLL\",\"StatusDescription\":\"Filled\",\"UnbundledRouteFee\":\"0\"},{\"AccountID\":\"11655345\",\"CommissionFee\":\"0\",\"ClosedDateTime\":\"2023-06-07T19:36:03Z\",\"Currency\":\"USD\",\"Duration\":\"DAY\",\"FilledPrice\":\"225.2582\",\"Legs\":[{\"OpenOrClose\":\"Open\",\"QuantityOrdered\":\"1\",\"ExecQuantity\":\"1\",\"QuantityRemaining\":\"0\",\"BuyOrSell\":\"Buy\",\"Symbol\":\"TSLA\",\"AssetType\":\"STOCK\",\"ExecutionPrice\":\"225.2582\"}],\"OrderID\":\"967793406\",\"OpenedDateTime\":\"2023-06-07T19:36:03Z\",\"OrderType\":\"Market\",\"PriceUsedForBuyingPower\":\"225.24\",\"Routing\":\"Intelligent\",\"Status\":\"FLL\",\"StatusDescription\":\"Filled\",\"UnbundledRouteFee\":\"0\"}],\"Errors\":[]}\n",
      "\n"
     ]
    }
   ],
   "metadata": {}
  }
 ],
 "metadata": {
  "orig_nbformat": 4,
  "language_info": {
   "name": "python",
   "version": "3.10.9",
   "mimetype": "text/x-python",
   "codemirror_mode": {
    "name": "ipython",
    "version": 3
   },
   "pygments_lexer": "ipython3",
   "nbconvert_exporter": "python",
   "file_extension": ".py"
  },
  "kernelspec": {
   "name": "python3",
   "display_name": "Python 3.11.3 64-bit ('trading_env': conda)"
  },
  "interpreter": {
   "hash": "cb1ef840c899288e1e9c910483dc767869c95ccfa937d49ced9579438bbda641"
  }
 },
 "nbformat": 4,
 "nbformat_minor": 2
}